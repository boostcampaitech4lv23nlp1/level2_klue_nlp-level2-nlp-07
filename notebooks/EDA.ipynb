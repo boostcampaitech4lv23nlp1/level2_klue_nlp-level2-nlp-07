{
 "cells": [
  {
   "cell_type": "markdown",
   "metadata": {},
   "source": [
    "# EDA"
   ]
  },
  {
   "cell_type": "code",
   "execution_count": 1,
   "metadata": {},
   "outputs": [],
   "source": [
    "import pandas as pd\n",
    "import matplotlib.pyplot as plt\n",
    "\n",
    "data = pd.read_csv('/opt/ml/dataset/train/train.csv')"
   ]
  },
  {
   "cell_type": "code",
   "execution_count": 2,
   "metadata": {},
   "outputs": [
    {
     "data": {
      "text/html": [
       "<div>\n",
       "<style scoped>\n",
       "    .dataframe tbody tr th:only-of-type {\n",
       "        vertical-align: middle;\n",
       "    }\n",
       "\n",
       "    .dataframe tbody tr th {\n",
       "        vertical-align: top;\n",
       "    }\n",
       "\n",
       "    .dataframe thead th {\n",
       "        text-align: right;\n",
       "    }\n",
       "</style>\n",
       "<table border=\"1\" class=\"dataframe\">\n",
       "  <thead>\n",
       "    <tr style=\"text-align: right;\">\n",
       "      <th></th>\n",
       "      <th>id</th>\n",
       "      <th>sentence</th>\n",
       "      <th>subject_entity</th>\n",
       "      <th>object_entity</th>\n",
       "      <th>label</th>\n",
       "      <th>source</th>\n",
       "    </tr>\n",
       "  </thead>\n",
       "  <tbody>\n",
       "    <tr>\n",
       "      <th>0</th>\n",
       "      <td>0</td>\n",
       "      <td>〈Something〉는 조지 해리슨이 쓰고 비틀즈가 1969년 앨범 《Abbey R...</td>\n",
       "      <td>{'word': '비틀즈', 'start_idx': 24, 'end_idx': 26...</td>\n",
       "      <td>{'word': '조지 해리슨', 'start_idx': 13, 'end_idx':...</td>\n",
       "      <td>no_relation</td>\n",
       "      <td>wikipedia</td>\n",
       "    </tr>\n",
       "    <tr>\n",
       "      <th>1</th>\n",
       "      <td>1</td>\n",
       "      <td>호남이 기반인 바른미래당·대안신당·민주평화당이 우여곡절 끝에 합당해 민생당(가칭)으...</td>\n",
       "      <td>{'word': '민주평화당', 'start_idx': 19, 'end_idx': ...</td>\n",
       "      <td>{'word': '대안신당', 'start_idx': 14, 'end_idx': 1...</td>\n",
       "      <td>no_relation</td>\n",
       "      <td>wikitree</td>\n",
       "    </tr>\n",
       "    <tr>\n",
       "      <th>2</th>\n",
       "      <td>2</td>\n",
       "      <td>K리그2에서 성적 1위를 달리고 있는 광주FC는 지난 26일 한국프로축구연맹으로부터...</td>\n",
       "      <td>{'word': '광주FC', 'start_idx': 21, 'end_idx': 2...</td>\n",
       "      <td>{'word': '한국프로축구연맹', 'start_idx': 34, 'end_idx...</td>\n",
       "      <td>org:member_of</td>\n",
       "      <td>wikitree</td>\n",
       "    </tr>\n",
       "    <tr>\n",
       "      <th>3</th>\n",
       "      <td>3</td>\n",
       "      <td>균일가 생활용품점 (주)아성다이소(대표 박정부)는 코로나19 바이러스로 어려움을 겪...</td>\n",
       "      <td>{'word': '아성다이소', 'start_idx': 13, 'end_idx': ...</td>\n",
       "      <td>{'word': '박정부', 'start_idx': 22, 'end_idx': 24...</td>\n",
       "      <td>org:top_members/employees</td>\n",
       "      <td>wikitree</td>\n",
       "    </tr>\n",
       "    <tr>\n",
       "      <th>4</th>\n",
       "      <td>4</td>\n",
       "      <td>1967년 프로 야구 드래프트 1순위로 요미우리 자이언츠에게 입단하면서 등번호는 8...</td>\n",
       "      <td>{'word': '요미우리 자이언츠', 'start_idx': 22, 'end_id...</td>\n",
       "      <td>{'word': '1967', 'start_idx': 0, 'end_idx': 3,...</td>\n",
       "      <td>no_relation</td>\n",
       "      <td>wikipedia</td>\n",
       "    </tr>\n",
       "  </tbody>\n",
       "</table>\n",
       "</div>"
      ],
      "text/plain": [
       "   id                                           sentence  \\\n",
       "0   0  〈Something〉는 조지 해리슨이 쓰고 비틀즈가 1969년 앨범 《Abbey R...   \n",
       "1   1  호남이 기반인 바른미래당·대안신당·민주평화당이 우여곡절 끝에 합당해 민생당(가칭)으...   \n",
       "2   2  K리그2에서 성적 1위를 달리고 있는 광주FC는 지난 26일 한국프로축구연맹으로부터...   \n",
       "3   3  균일가 생활용품점 (주)아성다이소(대표 박정부)는 코로나19 바이러스로 어려움을 겪...   \n",
       "4   4  1967년 프로 야구 드래프트 1순위로 요미우리 자이언츠에게 입단하면서 등번호는 8...   \n",
       "\n",
       "                                      subject_entity  \\\n",
       "0  {'word': '비틀즈', 'start_idx': 24, 'end_idx': 26...   \n",
       "1  {'word': '민주평화당', 'start_idx': 19, 'end_idx': ...   \n",
       "2  {'word': '광주FC', 'start_idx': 21, 'end_idx': 2...   \n",
       "3  {'word': '아성다이소', 'start_idx': 13, 'end_idx': ...   \n",
       "4  {'word': '요미우리 자이언츠', 'start_idx': 22, 'end_id...   \n",
       "\n",
       "                                       object_entity  \\\n",
       "0  {'word': '조지 해리슨', 'start_idx': 13, 'end_idx':...   \n",
       "1  {'word': '대안신당', 'start_idx': 14, 'end_idx': 1...   \n",
       "2  {'word': '한국프로축구연맹', 'start_idx': 34, 'end_idx...   \n",
       "3  {'word': '박정부', 'start_idx': 22, 'end_idx': 24...   \n",
       "4  {'word': '1967', 'start_idx': 0, 'end_idx': 3,...   \n",
       "\n",
       "                       label     source  \n",
       "0                no_relation  wikipedia  \n",
       "1                no_relation   wikitree  \n",
       "2              org:member_of   wikitree  \n",
       "3  org:top_members/employees   wikitree  \n",
       "4                no_relation  wikipedia  "
      ]
     },
     "execution_count": 2,
     "metadata": {},
     "output_type": "execute_result"
    }
   ],
   "source": [
    "data.head()"
   ]
  },
  {
   "cell_type": "code",
   "execution_count": 4,
   "metadata": {},
   "outputs": [
    {
     "name": "stdout",
     "output_type": "stream",
     "text": [
      "32470\n"
     ]
    }
   ],
   "source": [
    "# train data 개수\n",
    "print(len(data))"
   ]
  },
  {
   "cell_type": "code",
   "execution_count": 6,
   "metadata": {},
   "outputs": [
    {
     "data": {
      "text/plain": [
       "id                0\n",
       "sentence          0\n",
       "subject_entity    0\n",
       "object_entity     0\n",
       "label             0\n",
       "source            0\n",
       "dtype: int64"
      ]
     },
     "execution_count": 6,
     "metadata": {},
     "output_type": "execute_result"
    }
   ],
   "source": [
    "# 결측치 확인\n",
    "data.isnull().sum()"
   ]
  },
  {
   "cell_type": "code",
   "execution_count": 7,
   "metadata": {},
   "outputs": [
    {
     "data": {
      "image/png": "[encoded data removed]",
      "text/plain": [
       "<Figure size 432x288 with 1 Axes>"
      ]
     },
     "metadata": {
      "needs_background": "light"
     },
     "output_type": "display_data"
    }
   ],
   "source": [
    "# label 별 개수\n",
    "label_dict = {}\n",
    "for i in range(len(data)):\n",
    "    if data['label'][i] in label_dict:\n",
    "        label_dict[data['label'][i]] += 1\n",
    "    else:\n",
    "        label_dict[data['label'][i]] = 1\n",
    "    \n",
    "plt.plot(list(label_dict.keys()), list(label_dict.values()))\n",
    "plt.xticks(rotation = 90)\n",
    "plt.show()"
   ]
  },
  {
   "cell_type": "code",
   "execution_count": 8,
   "metadata": {},
   "outputs": [
    {
     "name": "stdout",
     "output_type": "stream",
     "text": [
      "{'wikipedia': 21620, 'wikitree': 10672, 'policy_briefing': 178}\n"
     ]
    },
    {
     "data": {
      "image/png": "[encoded data removed]",
      "text/plain": [
       "<Figure size 432x288 with 1 Axes>"
      ]
     },
     "metadata": {
      "needs_background": "light"
     },
     "output_type": "display_data"
    }
   ],
   "source": [
    "# source 별 개수\n",
    "source_dict = {}\n",
    "for i in range(len(data)):\n",
    "    if data['source'][i] in source_dict:\n",
    "        source_dict[data['source'][i]] += 1\n",
    "    else:\n",
    "        source_dict[data['source'][i]] = 1\n",
    "    \n",
    "plt.hist(data['source'])\n",
    "print(source_dict)"
   ]
  },
  {
   "cell_type": "code",
   "execution_count": 27,
   "metadata": {},
   "outputs": [],
   "source": [
    "def preprocessing_dataset(dataset):\n",
    "    \"\"\" 처음 불러온 csv 파일을 원하는 형태의 DataFrame으로 변경 시켜줍니다.\"\"\"\n",
    "    subject_entity = []\n",
    "    object_entity = []\n",
    "    for k in range(len(dataset)):\n",
    "        i = eval(data['subject_entity'][k])['word']\n",
    "        j = eval(dataset['object_entity'][k])['word']\n",
    "\n",
    "        subject_entity.append(i)\n",
    "        object_entity.append(j)\n",
    "    out_dataset = pd.DataFrame({'id':dataset['id'], 'sentence':dataset['sentence'],'subject_entity':subject_entity,'object_entity':object_entity,'label':dataset['label'],})\n",
    "    return out_dataset\n",
    "\n",
    "def tokenized(dataset):\n",
    "    sen = []\n",
    "    i = 0\n",
    "    for e01, e02 in zip(dataset['subject_entity'], dataset['object_entity']):\n",
    "        temp = ''\n",
    "        temp = '[CLS] ' + e01 + ' [SEP] ' + e02 + ' [SEP]' + dataset['sentence'][i] + ' [SEP]'\n",
    "        sen.append(temp)\n",
    "        i += 1\n",
    "\n",
    "    return sen\n",
    "\n",
    "def subj_tokenized(dataset):\n",
    "    sen = []\n",
    "    i = 0\n",
    "    for e01 in dataset['subject_entity']:\n",
    "        sen.append(e01)\n",
    "        i += 1\n",
    "        \n",
    "    return sen\n",
    "\n",
    "def obj_tokenized(dataset):\n",
    "    sen = []\n",
    "    i = 0\n",
    "    for e02 in dataset['object_entity']:\n",
    "        sen.append(e02)\n",
    "        i += 1\n",
    "\n",
    "    return sen"
   ]
  },
  {
   "cell_type": "code",
   "execution_count": 29,
   "metadata": {},
   "outputs": [],
   "source": [
    "from transformers import AutoTokenizer\n",
    "\n",
    "tokenizer = AutoTokenizer.from_pretrained('klue/bert-base')\n",
    "sen = preprocessing_dataset(data)\n",
    "sentence = tokenized(sen)\n",
    "subj = subj_tokenized(sen)\n",
    "obj = obj_tokenized(sen)"
   ]
  },
  {
   "cell_type": "code",
   "execution_count": 30,
   "metadata": {},
   "outputs": [
    {
     "data": {
      "text/plain": [
       "'[CLS] 비틀즈 [SEP] 조지 해리슨 [SEP]〈Something〉는 조지 해리슨이 쓰고 비틀즈가 1969년 앨범 《Abbey Road》에 담은 노래다. [SEP]'"
      ]
     },
     "execution_count": 30,
     "metadata": {},
     "output_type": "execute_result"
    }
   ],
   "source": [
    "sentence[0]"
   ]
  },
  {
   "cell_type": "code",
   "execution_count": 31,
   "metadata": {},
   "outputs": [
    {
     "name": "stdout",
     "output_type": "stream",
     "text": [
      "[CLS] 소련군 [SEP] 37,000명 [SEP]소련군의 포위 결과 독일군 33,000명과 헝가리군 37,000명, 시민 800,000명이 부다페스트 도시 내로 고립되었다. [SEP]\n",
      "\n",
      "['[CLS]', '소련군', '[SEP]', '37,000명', '[SEP]소련군의', '포위', '결과', '독일군', '33,000명과', '헝가리군', '37,000명,', '시민', '800,000명이', '부다페스트', '도시', '내로', '고립되었다.', '[SEP]']\n",
      "\n",
      "['[CLS]', '소련', '##군', '[SEP]', '37', ',', '000', '##명', '[SEP]', '소련', '##군', '##의', '포위', '결과', '독일군', '33', ',', '000', '##명', '##과', '헝가리', '##군', '37', ',', '000', '##명', ',', '시민', '800', ',', '000', '##명', '##이', '부', '##다', '##페', '##스트', '도시', '내', '##로', '고립', '##되', '##었', '##다', '.', '[SEP]']\n",
      "\n",
      "46\n"
     ]
    }
   ],
   "source": [
    "print(sentence[342])\n",
    "print()\n",
    "print(sentence[342].split())\n",
    "print()\n",
    "print(tokenizer.tokenize(sentence[342]))\n",
    "print()\n",
    "print(len(tokenizer.tokenize(sentence[342])))"
   ]
  },
  {
   "cell_type": "code",
   "execution_count": 32,
   "metadata": {},
   "outputs": [
    {
     "data": {
      "image/png": "[encoded data removed]",
      "text/plain": [
       "<Figure size 432x288 with 1 Axes>"
      ]
     },
     "metadata": {
      "needs_background": "light"
     },
     "output_type": "display_data"
    }
   ],
   "source": [
    "# 띄어쓰기 기준 max_len 분석하기\n",
    "space = []\n",
    "for i in range(len(sentence)):\n",
    "    text = sentence[i].split()\n",
    "    space.append(len(text))\n",
    "\n",
    "plt.hist(space)\n",
    "plt.show()"
   ]
  },
  {
   "cell_type": "code",
   "execution_count": 33,
   "metadata": {},
   "outputs": [
    {
     "data": {
      "image/png": "[encoded data removed]",
      "text/plain": [
       "<Figure size 432x288 with 1 Axes>"
      ]
     },
     "metadata": {
      "needs_background": "light"
     },
     "output_type": "display_data"
    }
   ],
   "source": [
    "# tokenzier 기준 max_len 분석하기\n",
    "tok = []\n",
    "for i in range(len(sentence)):\n",
    "    text = tokenizer.tokenize(sentence[i])\n",
    "    tok.append(len(text))\n",
    "\n",
    "plt.hist(tok)\n",
    "plt.show()"
   ]
  },
  {
   "cell_type": "code",
   "execution_count": 34,
   "metadata": {},
   "outputs": [
    {
     "name": "stdout",
     "output_type": "stream",
     "text": [
      "총 토큰 수 : 1966771\n",
      "[UNK] 토큰 수 : 6953\n",
      "중복을 제외한 [UNK] 토큰 수 : 2639\n",
      "['容旿', '바라캇', '↔', '犬', '鶴', '康', 'Águias', '少弐', '少弐頼尚', '陞', '興植', '킵차크', '劉', '宏', '勝', '거뒸을', '泳孝', '申宜', '두샨베', '夏侯', '夏侯惇', '曹騰', '侍', '僉', '樞', '進礪', '–', '薛', '儉', '슌', '슌은', '盧景', '뭍혀잇는', '리셴녠', '崔翰', '徐', '錫', '玉置浩', '坂', '哲秀', '인트라팃과', '放送總局', '季', '홋스퍼', '홋스퍼의', 'Трбайх', '讓寧', '柳', '洙', '檢察廳', '爵', '李直閣', '雇', '사르키샨', '흄', '€1천', '켐페스', '켐페스에다가', '愼', '齋', '린뱌오', '린뱌오는', '쑨원이나', '条', '今', '노르드스트룀과', '慎', 'くうかい홍법', '쟝쩐위', '쟝쩐위는', '冉', '獻誠', 'Società', '펭수', '復鎭', 'ΚυριάκοςΠαπαδόπουλος', '넋업샨', '넋업샨는', '池承珉', '€21M에', '李御寧', '忍菴', '라디오셱의', '崔圭', '秋', '克', '池', '革', '樂', '興慶', '尉', '藎', '킵루츠', '臺', '延興', '展', '켐니츠', '켐니츠를', '켐니츠와켐니츠', '梁敞涉', '宋', '敏', '農', 'بدیعالزمان', '촐로', '€17', '馮玉祥', '閻錫', '飮葛', 'Ⓐ에', '리콴유', '리콴유는', '趙錫俊', '푈러', 'Völler', '浦項', '廳', '麗', '梁', '楊', '兌卿', '雄', 'Ângelo', 'Vítor', '隊', '育訓鍊團', '靖', '錦', '李瑜', '콴', '鬱', '蕭昭', '藥局', '校', '堯莢', '李', '淵', '李顥', '謙', '운터하힝의', '敬', '鎭碩', '喜', '薛烏儒', '屋骨', '茶', 'Ζ', '☎1577', '☎031', '바르뎀', '메뎀', '豐', '昇', '에스파뇰에서의', '스탯을', '功', '쉔리와', '쉔리를', '森', '博', '욘', 'Pèlerin', '체르노젬스키', 'ВеличкоДимитровКерин', '景慕', '宜嬪廟', '寔', 'Häyhä', 'Ⓐ', '禪', '依據', '朱玉順', '뮐러', 'Müller', '魯', '郭珉整', '홋카이도', '홋카이도에서', '輝', '臨', '殷植', '純', '李坧', '땔감', '피녜라', '€300', 'MŠK', '훙윈', '훙윈과', '姜', '넴초프가', '昏', 'Tyresö', 'Örebro', '돌아옸지만', '六波羅', '園', '訪', 'ПарламентскиевыборывРоссии', '邱', '組', '펭수의', '펭수를', '로뮈알', '부녤은', '懿', '皇后', '隆陵', '莊', '獻敬懿皇后', '뗀다', '沙伐', '源', '永', '€6M에', '省', '特', '區', '區域', '惠妃李', '慶', '廉昌燮', '昴宿', '呪', '直諫', '웜의', '펩', '玄埈', '伊達', '仙', '鹿角', '乙', '뎁', '奏', '펨미닐레', '핌', 'Stanisław', '阿閉貞征', '느낍니다', '賢', '젭', '숲튽훈', '鎭奎', 'Systèmes', '辛', '谷', '町', '俊錦', '勳', '孝駿', '盧雅', '植', '聲根', '炳', '国际', 'よみ', '보탰다', '넵투누스', '넵투누스는', '崔', '鎭', '刊', '吾', '煜', '浪浦', '鬪', 'Fußball', 'München', '貫鄕', '豊沛', '鄕', 'ベヨネッタ', '彦昌', '郭', '盛', 'ЮлийМартов', 'Аграризм', '禹範', '켭시다', '횃불을', '仲', '뎁의', '熙', '載圭', '팹리스', '팹이', '팹을', '李愚貞', '麟坪', 'しらとりにんざぶろう', '趙顯娥', '泰壹', '웸블리', '賢喜', '갉아먹어', '根', '가믈랭', '위슈쑹', '깰', '戸幕', '徳', '튠업', '사뮈엘', '斗榮', '崔辰煕', '李烈熙', '柳岩', '繼胤', '盧', '震', '哉', '炳佑', '푸르트벵글러', '푸르트벵글러나', '俊煥', 'Shqipërisë', '비욘세', '비욘세와', '唐', '朱聿鍵', '隆', '督', '改', '禹', '虎', '津', '伯', '貴', '広', '電鉄', '波線', '淑媛', '碩榴', '秋承佑', 'α', 'João', '勸持品', '핼러런은', '。', '리옌훙', '淑', '默', 'ら', 'Ⓐ의', '조선중앙텔레비죤', '蘭', 'みゆき', '娘臂', '縣', '興葛', '延', 'pão', 'ló', '쾰른', '쾰른의', '˘³˘', 'ˈʁi', 'ʒi', 'ʒaˈnejɾu', '夢', '쿰엔터테인먼트', '쿰엔터테인먼트는', '禍', '剖棺斬屍', '峰', '벵골로', 'Saïd', '리숀레지온', '스타뎀은', '始柏', '旋律', '펭귄의', '＇', '펭귄', '드리스타드윰나가', '具滋玉', '具', '滋玉', '綾', '李昰應肖像', '括', '宰鎬', '忠烈', '旌', '線', '李宇璿', '奎', '慶姬', '아퀼라에', 'ІванМазепа', '€40M으로', '€60M으로', '베렝가리오', '쉔카이젠과', 'η', '貞応', '貞永', '皇', '貞', '翁', '初妃', '姑姪', '永哲', '鉉', '뫼비우스의', '뫼비우스를', '恒', '諱', 'Schörner', '齊', '聰兒', '尊', '清', '터줏대감이었던', '에스파뇰', '에스파뇰에서', '昌浩', '慶嬪李', '루쳄부르스키', '應', '應植', '李鳳', '李澄玉', '趙', '延禧專', '輔', '溥儁', 'СтеванВисоки', '꽈드로스', '克孝', '惟', '메이헴', '永樂', '묀헨글라트바흐의', '恭嬪', '恭', '后', '娜榮', '소줏값을', '康永喆', '래이쾨넨', '煙雨', '로퀜스', '로퀜스의', '慘變', '閘', '뱌체슬라프', 'ВладимирСемёнов', 'ГеоргийПушкин', 'Phänomenologie', '宋彦錫', '劇', '李範永', '青', '固', '李鳳羲', '徐妙錦', '嗣', '昭', '智昌薰', '宣', '尹鑴', '洪', '溶', '에스파뇰전에서', '複', '€5', '누녜스는', '묀헨글라트바흐에서', '军', '易齋', '宋浚', '庵', '濱', '耕', '빕스', '말뫼', '尹致旺', '梁睿娜', '黒', '清輝', '斗', '夏侯徽', '쑨양', '稅廳', '퀵스트라이크', '惠寧', '李𥘺', '李祉', '会', 'アニメーションドゥウ', '譚哲坤', '말컹의', '卞', '왱은', '昔', 'française', '彦昇', '촐라', '뎀프시', '鍾', 'داریوش', '깼다', '鎬', '順', '채드윅에게', '내디뎠다', '尹斗壽', '훙윈으로', '카뮈', '자이언트펭TV펭수', '커피앳웍스가', '棣', '夏', '뎀벨레와', '持', '從', '里', '玉', '蒼園', '井', '継', '貞秀', 'Влади́мирЛе́нин', '煥', 'الجبهةالشعبيةلتحريرفلسطين', '樹', '아녜스', '아녜스와', '아녜스는', '캥거루', '杰', '오라녜', '泰', '⸱', '토샥의', '破', '營', '陵', '昌', 'えりか', '工', '学校', '쥘', '劉少奇', '李乙雪', '쳄린스키의', '恩', '李禶', '景嬪', '井谷', '充', '李俊儀', '奎鎭', '숀', '홋스퍼가', '麥酒', '寫', '쪼갰고', '누녜스를', 'Auseklītis', 'Ausekliņš', 'Ausekliņis', 'Ausekleņis', 'Ausekliņa', '포로셴코', '포로셴코가', '赤', '尔', 'François', 'TrầnĐìnhTúc', '응우옌쫑헙', 'NguyễnTrọngHợp', '홋카이도까지', '스웜', '호엔촐레른베링겐', '호엔촐레른지크마링겐', '李康敦', '党', '쌉니다', '€39', '辯護', '驥', '李誠宇', '燮', '裕千', '旻', '李仇', '策研', '闡', '興', '映', '헹크', '헹크와', '쾰른에서', '瑞', '俊', '進', '칸쟈니∞', '칸쟈니∞로서', '李賢坤', '崇禎', '調', '靈感', '聲', 'Ibišević', '敦', '振', '淡妃', '李永柱', '弟', '€24M이', 'リベラル労組会', 'ГорнаОряховица', '오라녜나사우가', '崇', '李澂', '育課程評價', '吳鐘赫', '葉', '부쉈고', '긱스', '긱스의', '긱스를', '똔텃투옛과', '껀브엉', '李健煕', '崔益鉉', '遣唐賣', '스뱌토폴크', 'Álvaro', '勇', '根宇', 'Μέγαρα', '居', '干', '靈', '디뎠고', '維徹', '梁起鐸', '梁俊', '景', '€18M의', '량훙즈', '梁鴻', '皇后楊', '淵次', 'Híspalis', '宋旻淳', '特殊', '團', '徐守', 'Kayserigücü', 'Büyükşehir', 'Hacılar', '읏맨의', '浩哲', 'Jenő', 'Újdombóvr', '少弐冬', '에스파뇰의', '누볐지만', '李址鎔', '速', '範科', '副', '풉시다', 'Rosenkränzer', '羅', 'Rashômon', '藪', '果', '科', '館', 'あゆみ', '浜崎あゆみ', '衛', '蔣介', '다롄', '兒葉', '榮', '驛', '連', 'poète', '尹奉', '펨토초', '尹耀涉', '李永', '禍亂', '容悳', '駉壽', '兪', '濬', 'АлексейИвановичХегай', '靜', '荷', '쥰', '쥰은', '浩', '杜乙', '顯肅皇后', '徽', '崔永祚', 'Vastić', '御', '吳樹', '尹', '始璄', '岸', '介', '右渠', '衛右渠', '衛滿', '孔', '聯邦', '梁啓超', '台', '숀켐프와', '벵가지에서', '벵가지', 'Guenièvre', '駐', '휼품로를', '双', '爾丹', '홋스퍼와', '꼰스트루시오네스', '諮', '에미넴', '鈞', '遠', '許', '昌勇', 'Zürich', '内', '真礼', '멱급수환도', '아둔야뎃', '李鍾贊', '緖', '더글러스흄을', '秉析', '蘇秉勳', '乃', 'Château', '･', '李賢', 'Ⓐ가', '舊', '鎭圭', '千', '棟梁', '忠', '航', '釜', '말컹은', '尹潽', '방얏', 'Hoeneß', '璨', '徐康俊', '盧燦曄', '칸쟈니∞에는', 'μm', '延壽', '惠', '樺', '署', '純亨', '梁承鶴', '庾', '鳳', '趙容瑗', '承', 'SašaDrakulić', '교육⋅문화', '崔彰', '咸豊', '夜', '曲', '溫達', '病', '協', '麟', '致祭', '碑', '꾐과', '吳佩孚', '쑨추안팡', '芳', '브뢴뷔', '베르됭', '앙그리뇽역으로', '圭奉', '말뫼와', '洛洙', '스웩을', '李奉昌', '靖難', '變', '건넜으며', '어쨋거나', '宋再臨', '飛', '에스파뇰과의', 'Διόνυσος', 'Dionȳsos', 'Król', 'Królestwo', 'ЦарствоПольское', '等', 'Päts', '盧建', '陳慶', 'たなか', '伊', '次', 'たなかいさじ', '泰均', '아이스퀼로스', '퓌르트를', '映宣', '夏侯淵', '파쉬냔', '와치랄롱꼰', '兒', 'Päffgen', '徐瑛', '스윕패를', '쾰른으로', '쾰른이', '尹珍淑', '⟪', '⟫', '에스파뇰과', '쌩', '펩시콜라', '李兆', '星', '奈良', '智', '那', '뢴트겐', '뢴트겐이', '崔斗', '劉伯', '스퀼라체', '防', '誘導彈', '令', '훙커우', '豊恩', '아먀구치슌의', '카녜이', '喪', '千桂永', '李範奭', 'Αθάνατοι', '盧塢', '盧穗', '盧垓', '히엡호아', '묀헨글라트바흐', 'ÉderzitoAntónio', 'Éder', '曙羅', '쐈으며', '샨타누에게', '森喜朗', '復', 'すずきそのこ', '弘', '尾', '派', '畿湖派', '舍', '吳', '€15M의', '恩智', '하얏트호텔', '헴스워스', '헴스워스는', '趙珉', '殷鎬', '齋藤', '康錦', '귈', '牟', '釩', 'RuairíÓ', 'DithíÓ', '1894～1956', '아뎀', '흭득하였고', '泳', '貞桓', '洵', '李尹馨', '그륀발데어', '毛澤', '徐寅永', '蔚', '放送', '슌을', '홋스퍼는', '孝', '宜嬪', '힉스', '훙위안', '훙위안으로', 'Oñate', '李懌', 'García', '參', '誠', '凱', 'Televisión', '孝哀悊皇后', '溫沙', '엊그제', '湧勳', '훙서했는데', '에뷜무자페르', '卍', '로코솝스키', '禰寔進', '左威衞', '婁', '沈', '符', '端慶', '宇', 'Dìn', '휴켐스', '完洙', '申', '均', '著團结', '彬', '杜尤', '호엔촐레른', '曺尙佑', '튤립단지를', '홋카이도의회', '젬스키', 'Gösta', '펭수x스파오', '敷', '에스파뇰로', '桂', '홋카이도에', '버텼으나', 'الوادي', '펩시광고에', '懿妃', '홋타', '豊', 'СДГ', '李鉉', '李載裕', '厦门', '学', '쓰촨', '晉愍皇', '鄴', '조선중앙텔레비죤이', '크리스챤', '윷놀이', '句麗', 'Kristòf', '퀼츠', 'Külz', '다먀노비치의', '首', '슈쳉스니', '슈쳉스니가', '好', '咨', '€18M', '£12M의', '洹', '宋幽根', '옝제이치크', '옝제이치크가', '範', 'NIИ', '載均', 'かれん', '暻根', '茂', '敏充', '촐리', '偉', '蕭', '建康', '夏銓', '致弘', '藤', '助', '爾', '久怨', '容夏', '妃', '絡', '掾那', '監', '쇤베르이', '스왑딜을', '良', '鴻亮', '央', '管', '委', '灌漑', '陸', '需', '거셌다', '€3', '尹彛', '李初', '疑', '件', '沈晥鎭', '號', '괸련', '活', '松竹', '宝', '鏡', '장크트푈텐으로', '쾨니히그레츠', '李鍾滎', '崔伯烈', 'à', '吳昇桓', '徐載弼', '庚', '푀', '푀가', '星禹', '流', '奇', 'Émery', '제쮠담바', '翊', '曺柔', '하이뎬구', '하이뎬구에', '渚', '홋스퍼와의', '祉', '뎀나', '結', '£420', '크뢸루프는', '엡손', '黒沢ともよ', '堤', '毛末', '丸', '穗', '쾨슬러', '튤립축제를', '崔鍾賢', 'ΜίκηςΘεοδωράκης', '垠齋', '믈라카', '마자파힛', '蘇', '舒玄', '엡스타인의', '☎659', '360°', '360°같은', '貌', '妃洪', '廢嬪', '£19M짜리', '忠勳', '眉壽', '奥', '뎁이', '寶龜', '壁', '鐘瑞', '내비쳣다', '힉스는', '柳汝諧', '昶', '婦展', '皇甫', '숀모아뎁', '千鎰', '從厚', '皮', '이노뎁', '刺', '세묜티모셴코', '세묜티모셴코에게', '티모셴코에게', '亞放送藝術', '李糿', '촐라의', '羲', '촐라와', '李雪', '述', '蔡泰', '李邊', '菅', '秀', '宋珍炯', '˹찾아가는', '문화공연˼을', '弼', '趙秀赫', '讀', '玄松', '育', '넵튠의', '容', '▴여행사', '▴크루즈', '御末', 'お目', 'え', '御湯殿', '技', '옝제이차크', '돤치루이', '돤치루이와', '井種雄', '養建', 'Élisabeth', '헹크의', 'HNLŽ', '李孝', '쩔쩔맸다는', '屯陣', '趙晶', '姬', '휜텔라르를', '滿', '席', '勞', '沸流', '溫祚', '浦', '印', 'Wānanga', '엷은', '汎', '虛閭', '渠單于', 'РТР', '뮈르달', '뮈르달과', '威', '뮐러를', '毒', '祚', '諸葛', '昶暋', '찾아뵐', '曺宰溱', '晋', '放送局', '冽巖', '鍾鴻', '귈이', '魚藻', '咸從', '宣懿', '慈儀', 'Schrödingers', '李悤', '（', '渕健', '郎', 'こぶちけんたろう', '）', 'Três', '셧아웃', '味鄒泥', '卿', '朱', '쑨원과', '六步', '洪啓薰', '네뷸라', '윔비어', '웜비어씨가', '起烏', '慶珍', '瑜植', '장크트푈텐', 'Pölten', '뫼들링', 'Mödling', '馨', '素荃', '뎀비츠', '釋迦提桓因陀羅', 'Śakra', '李亨澤', '헵번의', '肩逸', '히믈러는', '老', '웽거의', '顯俊', '降', '陶', '橋朱里', '䄙嬪', '李敦', 'ˈkeɪ', 'ɒs', '友加里', '寛永', '崎', '穴吊り', '스켐으로', '昭容', '칸쟈니∞과', '邂逅', '閔泳韶', '遼', '郡', '悲嘆', '轉', '路', 'Moët', '米', '連帶', '우젠슝', '우젠슝과', '竹内', '宥', '丹', '健', '恩彦', '李䄄', '李彦迪', '沿線', '鐵沿線', '沂喆', '鐵', '晩', '李崇勇', '€2', '姸兒', '彠', '쿠틉', '尹守弘', '宋津宇', '·', '말컹과', '衡', '꼰대', '廳舍警備隊', '막찐쭝', '帶素', '洪麟', '昌洙', '穎', '露梁', '造阿彌陀', '坐像', '恋のサイン', '湘', '淮', '슌지', '슌지가', 'ランティス', '珍', '訥', '普愚', '賢姬', '軾', '宋秉畯', '앳킨슨이', '郁', '嘉興', '右尊', '培', '賢珠', '李采洹', '燦', '陳昌', '承勇', '라듐을', '楨', '홋스퍼를', '芝', '渙', 'うらら', 'Espírito', 'Maranhão', 'Brasília', '杓', '庶后', '하이츨러', 'を', 'めた。', 'いけだ', '伸', 'いけだのぶこ', '李柱烈', '坪洞', '熊津', 'ΒασιλείατῶνῬωμαίων', 'ΑρχητῶνῬωμαίων', 'Ῥωμανία', 'ΠολιτείατῶνῬωμαίων', 'Γραικία', 'Ῥωμαΐς', '乙容打', '校醫療', '致煥', '晉', '敬瑭', '괭수', '咲', '쒸', '홋스퍼과', '裵仲', '侯溫', 'saarländisch', '六', '위키트리뷴', '위키트리뷴은', '釋迦牟尼', '陰奉', '旭', '袁崇煥', '皇后沈', '廢妃愼', '燕', '뵐플리', 'Wölfli', '야쿱', '洞', '꾐에', '餘', '蛙', '秦昌守', '申星', '賢娥', '宰', '소꿉친구들인', '인트라팃', '消謠遊', '셧다운제', '웡가', '웡가가', '웡가는', '☏850', '完鍾', '琴', '킵', '신좡', '매퀀', '쿰', '崔容', '承穡', '庶叔', '構', '€8', '루넝', '廟', '永浩', '丁若鏞', '소꿉친구인', '엡실론별을', '로마뇰리를', '尹榮', '豪', '尹伊桑', '쉐이크쉑', '曺敏仙', '幡', '洋', '店', '趙培淑', '尹普', '빕사니아', '빕사니아와', '펭수가', '경기광주고용복지⁺센터를', 'دولتعالیهعثمانیه', 'Âliye', 'Osmâniyye', 'Osmanlıİmparatorluğu', '源進', '伯兄', '昭懷皇后劉', '完', '아믈리브', '渤', '李奎魯', '잰듯하게', '셍', '從弟', '묀헨글라트바흐와의', 'ちょうそかべもとちか', '佐', '沈錫希', '銓注', '甫', '圃', '蜀', '玉珍', '隨', '羅伯', '祿', '阿只', '咸台永', '織', '足', '쉔베르크극장에서', '休', '祥', '勾', '兄', 'Atmos®', '루넝의', '池尙昱', '辨', '錘', '諫', '裵', '슌으로부터', 'Vidošić', '우젠슝의', '溫', '寧', '列', '葛邏祿', 'Ernő', 'お', '毛岸', '묀헨글라트바흐와', '쥰이치가', '웡', '웡이', '헴즐리', '가녜가', '羅健兒', '£2', '鈴', '貫', '陳儀', '웜슬리', '奎植', '進步', '盟', '烈', '로바쳅스키', '弘傑', '計廳', '敬寧', '李裶', '庶', '손뗀', '묀헨글라트바흐는', '伯飯', '飯', '贊', '昌謨', 'Hübmaier', '憬興', '佑', '쿸방', '홧김에', '쯕', '奧', '화뤄겅', '4⅓이닝', 'ルールー', 'アムール', 'Löwenheim', '姸', '露', '겜', '救', '、', '浜慶（', '穆', '醫', '농업⋅농촌지원', '皇甫兪', '？', '孝陵', '히츨슈페르거', '崇斌', '悌邕', '恭愼翁', '澮', '財', 'Adélaïde', '湖', '旅客', '庄鈴', '維羅', '瑟', '헹', '謨', '抑', '푸껫', '李鍾', '폽코프', '密直', '크뤽생크와', '엡스타인', '孝閔皇', '覺', '閔丙梪', '벵가지를', '10m³당', 'سعيدالعويران', '껐지만', '崔鉉培', '앳킨슨', '제１부상', '솓아냈다', '스뱌토슬라비치의', '妃號', '習', '艾', '獻忠', '緑', 'ゆき', '征', '柳賢振', '護', '友皇', '毛', '祇', '交響樂團', '孝肅', '敬惠', '훅을', '遠藤実', '谷謙', '順翁', '紅', '블레츨리', '祉燮', '秋岡', '뎁과', '쉘부르', '嫡后', '켐프', '쾨니그', '姫', '暦', '真', '佐々', '莉佳', '쾨벤하운과의', '장괸', 'cibaeñas', '／', 'Vebjørn', '昆靡', '戴', '웸블리에', '榮珠', '欽', '畿放送', '谷瞳', '复交', '부숴뜨렸다', '£300', 'تونكوعبدالرحمنڤوتراالهاجابنالمرحومسلطانعبدالحميدحاليمشه', '尹盛桓', '柱', 'ヶ', '戦い', '李昰應', '墓', '池復榮', '堯', '李允', '槿惠', '웜', 'さあや', '李景儀', '스윕하며', '슈쳉스니의', '李慶曄', '李慶恩', '順達', '峻永', '乘', '總領漠', '몬시뇰', '彰徳', '宰煥', '慶徵', 'AḥmadZāhir', '索瓦', '雅俊', 'ظہیرالدینمحمدبابر', 'ज़हीरुद्दीनमुहम्मदबाबर', '李承', '審', '㈔한국인터넷전문가협회가', '▵부산경찰청', '▵자유한국당', '▵더불어민주당', '▵여정섭', '▵신쌍수', '▵정지한', '▵공웅조', '▵김동하', '▵류근창', '肖', '내디뎠다는', '위쾨넨', '從功', '丁', '阮', '鍼', '쑹타오', '사룟값을', '«', '»', '卜答失里', '李鍾培', '貞盛', '趙淳', '賢哲', '號線', '苩', '옅은', '恩貞', '沈泥', '宋永', '泰曾', 'Agência', '횃불트리니티신학대학원대학교', '횃불트리니티신학대학원대학교는', '바우뫼로', '폴리냑', '핼리팩스', '핼리팩스의', '遷葬', 'Víctor', '沈器遠', '菊淵', '守', '엡스타인은', '燁', '琯', '홋카이도에서의', '퓌르트', '퓌르트와의', '申承賢', '蓉', 'Almirón', '하얏트', '慶寧郡', 'Rädda', '펍메드', '李載覺', '健康', '險審査評價', '搜査', '誤植', '珉', '阿', '파스콸', '隆裕皇', '劉兢達', '벵갈루루', '蓮', '烏維單于', '피녜라는', '키녠코', 'Quiñenco', '李錫', '申潤', 'österreichische', '马', '列选区', '자캅카스', '草葉', '李容', '崔桂勳', '谷景', '트윅', '参', '検', '違', 'António', '坊', '휴켐스의', '端', '莊陵', '챠디의', '리셴녠이', '盧秉祥', '獅', '麗雄', '栄', '炳琯', '裕介', '카뮈는', '姜錫振', '申龍雲\\u200e,1983년9월8일~)은전KBO리그삼성라이온즈의투수이다.[SEP]', '澤', '€3M의', '없앴고', '寬洙', '曺秉局', 'Bessières', '펭귄이', '盧炳俊', '勇智', '푀양파', '李翰', '우젠슝은', '맬', '筑紫', '稱', '夏令', '昌悳', '鍾晳', '182⅔이닝을', '技術', '顯忠', '뗐다', '點仙', '阿閉皇', '趙壽益', '젬베콜라', '李宇盛', 'Жданов', '炳傑', '景陵', '거머쥘', '智泰', '許瑞烘', '洪璡', 'Brændt', '옭아매고', '宋錫贊', '承珉', '吳秀容', '핌핌', '苔', '李起築', '浪', '岡', '永綱', '壤', '펭귄스와', '바뀠다', '洪熙', '182⅔', '最', 'Bolesław', '呂', '勤農', '아르툠', '발트브뢸', '景泰', '魚丕', '孝昌洞', '롄샹을', '曆', '篆', '리콴유가', '휘푀넨', 'Hyppönen', '若', 'RÚV', 'RÚV는', '녀학생문뎨', '鎌倉', '16°선', '順興', '就', '€20M', 'Émile', '펩타이드', '顯', '皇后韋', '欽突', '비젼과', '앳더백', '李恩姬', '洪景', '布陣', '洪錫炫', '宋炳具', 'Nürnberg', '李娥珠', '昊', '李象範', '해믈럭과', '侵攻', '庭試', '筵', 'phénomènes', '尙', '李應俊', '劉載興', '☏031', '蔡忠順', '브륑포', '崎駿', '欽純', '賣', '€6M짜리', '陳', '絶', '防圈', '牟昌', '哲', '李俊熙', '튤립', '申潤浩', '퍼퓸', 'Südtirol', 'FußballclubSüdtirol', '宅根', '아이튠즈', '旗', '오얏꽃', '半漁', '紀', '尹鍾', '힛더스타일', '恭讓', '皇后胡', '힛', 'さよならひとり', '雅號', '徐恒錫', '松岡恒錫', 'Dimitrijević', '蔡', '魚', '仇', '蓄積', '쿈의', '쿈이', '躍進', '松', '頼聰', '趙炳', '客', '閔寬植', '裵斗娜', '趙容衡', '☎1599', '☎1670', '☎1644', '煦', '荒', '丞', '李斗璜', '웜비어', '鄧穎超', '쑨원이', '㫕', 'ĐạivươngLýNhật', '巖', '感恩', '推', '玄永哲', '오도옙스키', '엡실론은', '柳永哲', '李慈惠', '로셍오르드로', '뉴브런즈윅', '遺', '李載完', '볼프스샨체', '懿陵', '姓', '루녜비차', 'Луњевица', '愼久範', '믈라덴', '炫柱', '에스파뇰을', 'ÖBB', '聯', '亮碩', '뵘', '醍醐', '코냑', '코냑동맹', '드레퓌스의', '미뎀', '練', '崔殷含', '離', '亡', '마촐라', 'たでまるあや', '崇仰', 'Falköpings', 'Östers', '釋器', '閔', 'Đoàn', 'Sofía', '倒幕', '盧壽匡', '獻', 'Menggetü', 'Nekün', 'Yisügei', '또똣', '陜', '코냑동맹을', '–Divisão', '澈', '建', 'リサ', '다퉜다', '拔奇', '尺', '崔秀', '李始榮', '策進', '서벵골주', '顾维钧', '申尙澈', '井寿', 'みついひさし', '파스콸은', '묄레르는', '李褒', '栃', '베뒴', '蔘', '慈', '澠池', '徽愼', '李壽億', '할미넴', '策', '영산강Ⅳ지구', '碧', '益煥', '淑儀李', '李敏', '尹智雄', '箕', '잰슨', '黑船', '徐希炅', '朱瞻', '嚴', '媛', '뉘스트룀', 'Nystrøm', 'Søren', '뉘스트룀은', '嘉', '누녜스가', 'HồChí', '2세챠르에', '누볐다', '惠恭', '直', '紅丸案', '쑨원의', '履亨', '姜振圭', '梁香', '畿科', '€40M에', 'Škoda', '崔希貞', '가오슝', 'まどか', 'Édouard', '養', '甄萱', '스캇', '潛邸', '李瑅', '채드윅', '마믈룩', '켁', 'Flügels', '李磾', '阿慈介', '狐鹿姑單于', '皮千', '샨샤댐', '昌嬪', '鉉洙', '肥', '다롄의', '李隆', '隆慶坊', '초리넝쿨마을은', '永訓', '健陵', '徐末', '孝獻', '夏目漱', '아녜스를', '와치랄롱꼰의', '泰榮', '李興練', '昱', '樂浪', '鳳柱', '範洙', '悼', 'MOTO®', '橋', '위빳사나', '€100M이', '應謨', 'Jarolím', 'Čslav', '杜', '芥', '훙서할', '夏目', '李慶弼', '뤽', '뤽상부르', 'Boumédiène', '趙顯俊', 'Śākyamuni', '석가모니Śākyamuni', '釋尊', '畜', '品', '閔泳煥', '5⅔이닝을', '容兌', '李居易', '兼', '慶尙', '孔枝泳', 'Störfall', '숄', '盧壽鉉', '卞盛煥', '国衙領', '쥠과', '融組', '훙', '劉永碩', '李鋥', '条早', '皇后徐', 'Håvard', '趙承洙', '碩', '′', '狂', '際刑', '警察', '다롄은', '챕터를', '弓', '后柳', '調絃病', '디비젼', '禦侮', '奉', '鴻', '逸', '퀼컴', '로보캅', '수다르샨차크라로', '수다르샨차크라를', '€', '容姬', '姬勳', '애드훠', 'あかね', 'Южно', 'Сахалинскаяоперация', '吳兢', '보살핌을', '赫', '裔', '允源', '吳宰碩', '李朱', '幸', '비꼰', 'Antiquæ', '작곡해잓다', '翰', 'Obergruppenführer', '昭陵', '許榕埈', '보아텡', '尹容慈', '亜紀', 'なかがわあきこ', '羽溪', '秋憬', '慕容', '로셍오르드', '인텔리젼트', '素', 'Subotić', '긱스가', '崔今康', '캅', '炳鎬', 'あおきかずお', '詢', '葬', '李承晩', '홋스퍼에서', '均澤', '申翼熙', '再建', '步', 'Oršić', '崔瑛煥', '辰', '겐츨레르비를리이와', '펭귄이다', '코냑동맹전쟁중에', '曺', '熙斗', 'Ǧumhūriyya', 'ʿArabiyya', 'Lībiyya', '船', '局', '輪船', '潤根', '尹益', '에미넴이', 'β', '執', '리셴녠은', '쥘리앙', '仇首', '玉蓮', '姜紅', '假', '宣銅烈', '아퀼라라고', '아퀼레', '아퀼레스', '꾸밈이', 'Española', '숀은', '焄', '€25M의', '스웩으로', '鐘範', '아비뇽', '오툉', '크린랲은', '₫', '崔淳鎬', '起', '始興', 'Liège', '됭케르크', '瑪', '亞', '사르키샨이', '시놉시스는', '시놉시스', '시놉시스가', '驪興', '崔泰源', '級', '르죈', '銳', '源頼', '当', '냔타키', '투윅스', '仙台藩', '斎藤', '閔丙奭', '庸', '햔편', '浙', '广播电视', '团', '坤', '聯邦搜査局', '수다르샨차크라처럼', '슐레스비히홀슈타인존더부르크글뤽스부르크', 'Glücksburg', '葆', '閣', '禧敏', '洋科', '郵便聯', '뎀', '熙洙', '曺圭', 'フィッシャーズ', '뮐러의', '崔敏敬', '耆', '樞密', '于', '儒', '옙투셴코', '옙투셴코와', '昌樂', '咸', '香港工', '青葉', '抗', '尹誠彬', '敍', '皇極', 'Jürgen', '銅輪', '샤흐툐르', '姜弘植', '젭슨', '교툥수단', '敏達', 'BộiChâu', '潘佩珠', '密', '李琛', '禹述', '개트윅', '콰르텟를', '際旅團', '뎀포', '尹炳', '膳', 'dēli', '沈秀昌', '遷', '桓宣', '姜永植', '똔텃투옛', '丁允姬', '感', '崔致遠', 'Gøsta', '뎁은', 'ViệtQuốc', 'Việt', 'QuốcDânĐảng', '☎061', '淑儀', '闖', '묀헨글라드바흐', '낵스', '兩', '懿旨', '攝', '雷牙', '防衛庁', '防衛省', '帳幕', '諸葛亮', 'Furtwängler', 'Unión', '右丞', '進煐秀', '李承訓', '李干蘭', '卓', 'MиpкoBучинић', '르퓌앙벌레', '匡', 'WòhngFēihùhng', '멍훙웨이', '멍훙웨이는', '금호폴리켐', '永溫翁', 'Mönchengladbach', '두샨', '亨杓', '党シャドウ', 'キャビネット', '電', '爭', '쥘리오', '겐츨레르비를리이', '압뒬메지트', '鼎', '誤打', '유셴코', '国', '雨燦', '욘케레', '욘케레와', '첵랍콕', '쎙페테르스부르크', '바이에른쳄버', '際氷', '競技聯盟', 'Ευθύμιος', '埈', '良燁', '弓裔', 'Marítimo', '渡辺兼', 'Niccolò', '耘谷', '콴타스', '仏', 'Gonçalves', 'Gonçalves와', '개쳑하였다', 'Дондогдулам', '쫒아냈다', '촐라족', '솎아내라', '趙昌浩', '스낵시장', '輿', '斷指', '促', '崗', '甄', '쥴', '秦鍾午', '續考', '이바녜스', 'البلع', 'みなみ', '波つだみなみ', '아퀼라니', '贈', '丁桓', 'ĐinhHoàn', '타워굼바를', '앳킨슨을', '앳킨슨은', '흄은', '玄彬', '바샥셰히르', '묀헨글라드바흐와의', '寶符', '에스파뇰로의', '나뮈르', '履灌', '梁準', '우방아이유쉘아파트', '森進', '튤립꽃을', '徐達', '淑儀范', '慶昌', '港', '땔감으로', '李益', '曾', '킵초게', '킵초게는', '에뷜페트엣술타뉠무아잠이쥣뒨야', '炫', '벱스인', '내쫒고', '宰晙', '챠바크족', '李儇', '唐僖', '関', '하이뎬', '炅', '謝', '邊', '結晶', '臧', '却', '曹', '提', '極', '캥즈', 'Août', '姜勳植', 'MötleyCrüe', '쾨니히스베르크', '류촨즈', '微勒', '猶', '뎁스', '뎁스의', 'Perišić', 'たかし', 'かじいたかし', '琪洙', '尼', '샥즈는', '赫舍里希', '샨푸', '超', '奔放', '넴부탈은', '崔閏', '尹碩鎔', '믈라다볼레슬라프와', '벵거', '宋才博', '許哥', '許哥誼', '괘씸한', '쾨벤하운', '쾨벤하운에', 'Österreichs', '켐프와', 'Università', '譽革', '앳우드', '푀양파나', '休靜', '騎虛', '目', '炳禹', '雄洙', '遺訓', 'ኔዘርላንድመኪና', '瓦臺', '領', 'Ciências', '李丙琪', '윤쨔미', '워윅', '妥懽貼睦爾', '燕帖', '貢', '泰沃', '趙斗', '귀츨라프', 'Gützlaff', '토샥을', 'ギブリ', '푸깟', '쭐라이', '舒', '消防署', '6⅓이닝동안', '劉粤', '珠', '營區', '秀忠', '郭永', '슈나이데뮐', '願', '閥', 'Fútbol', '밞을', '일산서구☎031', '☎119', '塔', '€9', '智澈', 'Polizeiführer', 'Krüger', 'Mejía', '后妃', '卞彰欽', '殘', '象監', '롬푀이', '器', '涓', '£100', '셰페이롄과', '아이튠즈를', '아퀼라니와', '紅緣', '펍에서', '沈皇后', '貴妃', '宇彬', '조홰의', '炳完', '耀', '孝祚', '슌이치가', 'TruyệnKiều', '李承浩', '譙', '拜', 'まるた', '珅', '李鍾熙', '宋祐泫', '嵐脚', '斷', '崔承煥', '29일～30일', '発', '밭작믈', '콸리아렐라', '콸리아렐라의', '枓奉', '헤이슌', '斷交', '梁承虎', '洪炫佑', '姜申星', '片', '祐', '沔', '病歷', '翰秀', '璟', '具渰', '스윕이', '스윕한', '雷', '葉劍', 'Atatürk', 'Çakmak', '友', 'すずこ', 'Sciachetrà', '悳祐', '～8', '勉', '바뀜', '具滋哲', '申榮均', '李禔澯', '港灣', '˹재래시장', '안전예방˼', '趙錫宰', 'Sócrates', '崔敬哲', '에스파뇰에', '갹출하여', '齡', '리셴룽', '리콴유의', '音', '孔紹', '彦恭', '鍾聲', '瑜', '보탰고', '旼', 'Dürr', '總', '演', '具滋', '4㎿급', 'Geneviève', '미쉘을', '放', '뵘은', '㈜에버켐텍', '평양정보쎈터에서', 'König', '松夏', 'ταχύς', '퀀텀닷', '키숑', '쳇', '€14M', '£9', '운터하힝과', '崔承老', '2µT', '3µT', 'ЦзинЖиЧен', 'ЦзинЖичэн', '이젠롄이나', '香', '少', '李喜秀', '잰', '権', '変', '亂', '酒井ナカ', '킵식스', '킵식스와', 'いおな', '翼晙', 'Československa', 'Dēmosthénēs', '翔宇', '웁살라', '階俊博', '☎538', '匹斯星', '后康', '쉘', '⌜국가보안법', '현황⌟자료에', '오얏상', '타욘데이', '億乏', '獻敬', '后洪', '際', '環境工', '뷜로브', '伊昕巖', '邱科', '거머쥠에', '𑀫𑀕𑀥', '淑愼翁', '進興', '챠미', '徐松', '輯稿', '初', '尹鎰均', '宋昌', '姜恩惠', '亨稷', '薨', '젬버', '喬桐', '鳳加伊', '姜赫', '奭', '펭하', '幾何', '圭', '建忠', '스윕', '冊寶', '覚', '셧다운이', '쑹스룬에게', '아녜스가', '崔振']\n"
     ]
    }
   ],
   "source": [
    "# 모든 [UNK] token 뽑아보기\n",
    "token_sum = 0\n",
    "unk_token_num = 0\n",
    "final_unk_lst = []\n",
    "check = []\n",
    "for i in range(len(sentence)):\n",
    "    token_lst = tokenizer.tokenize(sentence[i])\n",
    "    token_sum += len(token_lst)\n",
    "    if '[UNK]' in token_lst:\n",
    "        check.append(sentence[i])\n",
    "    for token in token_lst:\n",
    "        if token == '[UNK]':\n",
    "            correct_sentence = sentence[i].replace(\" \",\"\")\n",
    "            unknowned_sentence = ' '.join(tokenizer.tokenize(sentence[i])).replace(' ##', '').strip().replace(\" \",\"\")\n",
    "            unk_token_num += 1\n",
    "            lst = list(unknowned_sentence.split(\"[UNK]\"))\n",
    "            lst = ' '.join(lst).split()\n",
    "            for j in lst:\n",
    "                correct_sentence = correct_sentence.replace(j,\" \",1).strip()\n",
    "            unk_lst = list(correct_sentence.split(\" \"))\n",
    "            for unk_word in unk_lst:\n",
    "                if unk_word not in final_unk_lst:\n",
    "                    final_unk_lst.append(unk_word)\n",
    "print(\"총 토큰 수 :\",token_sum)\n",
    "print(\"[UNK] 토큰 수 :\",unk_token_num)\n",
    "print(\"중복을 제외한 [UNK] 토큰 수 :\",len(final_unk_lst)) \n",
    "print(final_unk_lst)"
   ]
  },
  {
   "cell_type": "code",
   "execution_count": 35,
   "metadata": {},
   "outputs": [
    {
     "name": "stdout",
     "output_type": "stream",
     "text": [
      "총 토큰 수 : 95399\n",
      "[UNK] 토큰 수 : 224\n",
      "중복을 제외한 [UNK] 토큰 수 : 119\n",
      "['바라캇', '슌', '리셴녠', '사르키샨', '흄', '켐페스', '쟝쩐위', '넋업샨', '킵루츠', '리콴유', '푈러', '뮐러', '홋카이도', '피녜라', 'MŠK', '훙윈', '로뮈알', '넵투누스', '푸르트벵글러', '비욘세', '리옌훙', '베렝가리오', '에스파뇰', '루쳄부르스키', '꽈드로스', '래이쾨넨', '로퀜스', '뱌체슬라프', '쥘', '숀', '포로셴코', '스웜', '헹크', '칸쟈니∞', '긱스', '스뱌토폴크', '메이헴', '쥰', '욘', '방얏', '핌', '카뮈', '쾰른', '뢴트겐', '묀헨글라트바흐', '헴스워스', '아뎀', '홋스퍼', '체르노젬스키', '로코솝스키', '귈', '슈쳉스니', '옝제이치크', '푀', '엡손', '힉스', '옝제이차크', '다롄', '뮈르달', '우젠슝', '쿠틉', '하이츨러', '위키트리뷴', '뵐플리', '야쿱', '킵', '젭', '아믈리브', '로바쳅스키', '호엔촐레른지크마링겐', '헹', '카녜이', '웸블리', '昶', '위쾨넨', '쑹타오', '횃불트리니티신학대학원대학교', '퓌르트', '펍메드', '파스콸', '맬', '젬베콜라', '아르툠', 'RÚV', '퍼퓸', '믈라덴', '뵘', '마촐라', '펩', '또똣', '슌지', '뉘스트룀', '채드윅', '와치랄롱꼰', '벵갈루루', '화뤄겅', '放送', '보아텡', '옙투셴코', '자캅카스', '똔텃투옛', '루넝', '욘케레', '이바녜스', '앳킨슨', '콴', '킵초게', '브뢴뷔', '에미넴', '뎁스', '쾨벤하운', '켐프', '귀츨라프', '가믈랭', '킵차크', '콸리아렐라', '리셴룽', '킵식스', '핼리팩스']\n"
     ]
    }
   ],
   "source": [
    "# subject_entity [UNK] token 뽑아보기\n",
    "token_sum = 0\n",
    "unk_token_num = 0\n",
    "final_unk_lst = []\n",
    "check = []\n",
    "for i in range(len(subj)):\n",
    "    token_lst = tokenizer.tokenize(subj[i])\n",
    "    token_sum += len(token_lst)\n",
    "    if '[UNK]' in token_lst:\n",
    "        check.append(subj[i])\n",
    "    for token in token_lst:\n",
    "        if token == '[UNK]':\n",
    "            correct_sentence = subj[i].replace(\" \",\"\")\n",
    "            unknowned_sentence = ' '.join(tokenizer.tokenize(subj[i])).replace(' ##', '').strip().replace(\" \",\"\")\n",
    "            unk_token_num += 1\n",
    "            lst = list(unknowned_sentence.split(\"[UNK]\"))\n",
    "            lst = ' '.join(lst).split()\n",
    "            for j in lst:\n",
    "                correct_sentence = correct_sentence.replace(j,\" \",1).strip()\n",
    "            unk_lst = list(correct_sentence.split(\" \"))\n",
    "            for unk_word in unk_lst:\n",
    "                if unk_word not in final_unk_lst:\n",
    "                    final_unk_lst.append(unk_word)\n",
    "print(\"총 토큰 수 :\",token_sum)\n",
    "print(\"[UNK] 토큰 수 :\",unk_token_num)\n",
    "print(\"중복을 제외한 [UNK] 토큰 수 :\",len(final_unk_lst)) \n",
    "print(final_unk_lst)"
   ]
  },
  {
   "cell_type": "code",
   "execution_count": 36,
   "metadata": {},
   "outputs": [
    {
     "name": "stdout",
     "output_type": "stream",
     "text": [
      "총 토큰 수 : 86866\n",
      "[UNK] 토큰 수 : 416\n",
      "중복을 제외한 [UNK] 토큰 수 : 227\n",
      "['少弐', '玉置浩', '放送總局', '홋스퍼', '린뱌오', '条', '켐니츠', 'Müller', '園', '伊達', '뎁', '숲튽훈', '–', '国际', 'よみ', 'Ⓐ', 'みゆき', '쾰른', '쿰엔터테인먼트', '리숀레지온', '恒', '克孝', '稅廳', '会', 'アニメーションドゥウ', 'française', '樹', '아녜스', '陵', '昌', '쾰른의', '郭', '驥', '清', '策研', 'Ibišević', '居', '干', '량훙즈', '에스파뇰', 'あゆみ', '李永', '梁啓超', '衛', '諮', '에미넴', '아둔야뎃', '乃', 'Hoeneß', '홋카이도', 'SašaDrakulić', '崔彰', '브뢴뷔', 'たなか', '와치랄롱꼰', 'Päffgen', '盧塢', '히엡호아', '森喜朗', '蔚', '放送', '훙위안', 'García', '젬스키', '쓰촨', '句麗', '衛右渠', '監', '하이뎬구', '뎀나', '俊', '360°', '스뱌토폴크', '藤', '힉스', '세묜티모셴코', '沸流', '晋', '放送局', '冽巖', '魚藻', '降', '竹内', '宥', '막찐쭝', '슌지', '宋', '飮葛', 'いけだ', '釋迦牟尼', 'Wölfli', '인트라팃', '渤', '織', '李懌', 'Vidošić', '웡', '鈴', '貫', '郎', '計廳', '昌謨', '奧', '緖', '화뤄겅', 'ルールー', 'アムール', '穆', '后', '洋', '佐々', '莉佳', '畿放送', 'さあや', '麗', '李承', '宣', '從功', '젭', '숀', '핼리팩스', '端', '裕介', 'Víctor', '崇', '技術', '育', '校', '點仙', '徳', '洪熙', '뱌체슬라프', '順興', '烈', '李娥珠', 'Vastić', 'Südtirol', '豊', '洪景', '尹鍾', '蔡', '煦', '懿陵', 'ÖBB', '聯', '興', '昏', '서벵골주', '栃', '館', '團', '昶', 'まどか', '唐', 'えりか', '李隆', '健陵', '孝獻', 'Jarolím', 'Śākyamuni', 'ΜίκηςΘεοδωράκης', 'Håvard', '柳', '弓', '淑', '亜紀', 'なかがわあきこ', '로셍오르드', '詢', 'Oršić', '曺', '鉉', '銳', '浙', '广播电视', '团', '洋科', '郵便聯', 'RÚV', '樞密', '香港工', 'Jürgen', '膳', 'ViệtQuốc', '永', '르퓌앙벌레', '멍훙웨이', '두샨', '껀브엉', '겐츨레르비를리이', '압뒬메지트', '유셴코', '첵랍콕', '弓裔', 'Marítimo', 'Gonçalves', '촐라', '崗', '好', '慶', 'みなみ', '위쾨넨', '真', '호엔촐레른', '李儇', '쾨니히스베르크', 'たかし', '内', '休靜', '瓦臺', 'Fútbol', '롬푀이', '李鍾熙', '電', 'Atatürk', '港灣', 'Διόνυσος', '香', '酒井ナカ', '顯', '進', '타욘데이', '秋', '星', '昭陵', '熊津', '皇后']\n"
     ]
    }
   ],
   "source": [
    "# object_entity [UNK] token 뽑아보기\n",
    "token_sum = 0\n",
    "unk_token_num = 0\n",
    "final_unk_lst = []\n",
    "check = []\n",
    "for i in range(len(obj)):\n",
    "    token_lst = tokenizer.tokenize(obj[i])\n",
    "    token_sum += len(token_lst)\n",
    "    if '[UNK]' in token_lst:\n",
    "        check.append(obj[i])\n",
    "    for token in token_lst:\n",
    "        if token == '[UNK]':\n",
    "            correct_sentence = obj[i].replace(\" \",\"\")\n",
    "            unknowned_sentence = ' '.join(tokenizer.tokenize(obj[i])).replace(' ##', '').strip().replace(\" \",\"\")\n",
    "            unk_token_num += 1\n",
    "            lst = list(unknowned_sentence.split(\"[UNK]\"))\n",
    "            lst = ' '.join(lst).split()\n",
    "            for j in lst:\n",
    "                correct_sentence = correct_sentence.replace(j,\" \",1).strip()\n",
    "            unk_lst = list(correct_sentence.split(\" \"))\n",
    "            for unk_word in unk_lst:\n",
    "                if unk_word not in final_unk_lst:\n",
    "                    final_unk_lst.append(unk_word)\n",
    "print(\"총 토큰 수 :\",token_sum)\n",
    "print(\"[UNK] 토큰 수 :\",unk_token_num)\n",
    "print(\"중복을 제외한 [UNK] 토큰 수 :\",len(final_unk_lst)) \n",
    "print(final_unk_lst)"
   ]
  },
  {
   "cell_type": "code",
   "execution_count": 38,
   "metadata": {},
   "outputs": [
    {
     "data": {
      "image/png": "[encoded data removed]",
      "text/plain": [
       "<Figure size 432x288 with 1 Axes>"
      ]
     },
     "metadata": {
      "needs_background": "light"
     },
     "output_type": "display_data"
    }
   ],
   "source": [
    "# object_entity의 type 살펴보기\n",
    "obj_type = []\n",
    "for i in range(len(data)):\n",
    "    obj_type.append(eval(data['object_entity'][i])['type'])\n",
    "\n",
    "plt.hist(obj_type)\n",
    "plt.show()"
   ]
  },
  {
   "cell_type": "code",
   "execution_count": 39,
   "metadata": {},
   "outputs": [
    {
     "data": {
      "image/png": "[encoded data removed]",
      "text/plain": [
       "<Figure size 432x288 with 1 Axes>"
      ]
     },
     "metadata": {
      "needs_background": "light"
     },
     "output_type": "display_data"
    }
   ],
   "source": [
    "# subject_entity의 type 살펴보기\n",
    "subj_type = []\n",
    "for i in range(len(data)):\n",
    "    subj_type.append(eval(data['subject_entity'][i])['type'])\n",
    "\n",
    "plt.hist(subj_type)\n",
    "plt.show()"
   ]
  },
  {
   "cell_type": "code",
   "execution_count": 55,
   "metadata": {},
   "outputs": [
    {
     "name": "stdout",
     "output_type": "stream",
     "text": [
      "['〈', '〉', '《', '》', '.', '·', '(', ')', '‘', '’', ':', ',', '~', \"'\", '-', '“', '”', '\"', '㈜', '‧', '↔', '▲', '%', '/', '&', '!', '–', ';', '=', '→', '€', '△', '*', '｢', '｣', '★', '>', '․', '「', '」', '・', 'Ⓐ', '•', '☎', '[', ']', '㎞', '☆', '`', '※', '|', '『', '』', '。', '˘', '，', '＇', '∼', '㎡', '́', '：', '⸱', '∞', '♥', '･', '⋅', '⟪', '⟫', '～', '£', '{', '}', '°', '˹', '˼', '▴', '℃', '㎏', '（', '）', '∙', '♡', '$', '㎖', '≪', '≫', '□', '·', '\\u200e', '☏', '⁺', '®', '、', '？', '―', '○', '／', '़', 'ी', 'ु', '्', 'ा', '㈔', '▵', '«', '»', '×', '—', '％', '′', '₫', '<', '㎜', '\\uf09e', '㎿', '⌜', '⌟']\n"
     ]
    }
   ],
   "source": [
    "# train data에 존재하는 모든 특수기호 리스트\n",
    "import re\n",
    "\n",
    "s = []\n",
    "for k in range(len(data)):\n",
    "    i = eval(data['subject_entity'][k])['word']\n",
    "    j = eval(data['object_entity'][k])['word']\n",
    "    temp = i + ' ' + j + ' ' + data['sentence'][k]\n",
    "    s.append(temp)\n",
    "    \n",
    "special = []\n",
    "for i in s:\n",
    "    text = re.sub(r'[\\w+\\s]', '', i)\n",
    "    for j in text:\n",
    "        if j not in special:\n",
    "            special.append(j)\n",
    "print(special)"
   ]
  },
  {
   "cell_type": "code",
   "execution_count": 58,
   "metadata": {},
   "outputs": [
    {
     "name": "stdout",
     "output_type": "stream",
     "text": [
      "['↔', '–', '€', 'Ⓐ', '☎', '。', '˘', '＇', '́', '⸱', '∞', '･', '⋅', '⟪', '⟫', '～', '£', '°', '˹', '˼', '▴', '（', '）', '·', '☏', '⁺', '®', '、', '？', '／', '़', 'ी', 'ु', '्', 'ा', '㈔', '▵', '«', '»', '′', '₫', '㎿', '⌜', '⌟']\n"
     ]
    }
   ],
   "source": [
    "# [UNK] token으로 된 특수기호 리스트\n",
    "unk_sepcial = []\n",
    "for i in range(len(special)):\n",
    "    if '[UNK]' in tokenizer.tokenize(special[i]):\n",
    "        unk_sepcial.append(special[i])\n",
    "print(unk_sepcial)"
   ]
  },
  {
   "cell_type": "code",
   "execution_count": 62,
   "metadata": {},
   "outputs": [
    {
     "data": {
      "text/html": [
       "<div>\n",
       "<style scoped>\n",
       "    .dataframe tbody tr th:only-of-type {\n",
       "        vertical-align: middle;\n",
       "    }\n",
       "\n",
       "    .dataframe tbody tr th {\n",
       "        vertical-align: top;\n",
       "    }\n",
       "\n",
       "    .dataframe thead th {\n",
       "        text-align: right;\n",
       "    }\n",
       "</style>\n",
       "<table border=\"1\" class=\"dataframe\">\n",
       "  <thead>\n",
       "    <tr style=\"text-align: right;\">\n",
       "      <th></th>\n",
       "      <th>id</th>\n",
       "      <th>sentence</th>\n",
       "      <th>subject_entity</th>\n",
       "      <th>object_entity</th>\n",
       "      <th>label</th>\n",
       "      <th>source</th>\n",
       "    </tr>\n",
       "  </thead>\n",
       "  <tbody>\n",
       "    <tr>\n",
       "      <th>22090</th>\n",
       "      <td>22090</td>\n",
       "      <td>1959-60 시즌 이후의 알파 에트니키 / 수페르리가 엘라다, 그리스 컵, 그리고...</td>\n",
       "      <td>{'word': '수페르리가 엘라다', 'start_idx': 25, 'end_id...</td>\n",
       "      <td>{'word': '그리스', 'start_idx': 36, 'end_idx': 38...</td>\n",
       "      <td>no_relation</td>\n",
       "      <td>wikipedia</td>\n",
       "    </tr>\n",
       "    <tr>\n",
       "      <th>9618</th>\n",
       "      <td>9618</td>\n",
       "      <td>1959-60 시즌 이후의 알파 에트니키 / 수페르리가 엘라다, 그리스 컵, 그리고...</td>\n",
       "      <td>{'word': '수페르리가 엘라다', 'start_idx': 25, 'end_id...</td>\n",
       "      <td>{'word': '그리스', 'start_idx': 36, 'end_idx': 38...</td>\n",
       "      <td>no_relation</td>\n",
       "      <td>wikipedia</td>\n",
       "    </tr>\n",
       "    <tr>\n",
       "      <th>25368</th>\n",
       "      <td>25368</td>\n",
       "      <td>2001년 4월 민주국민당 김윤환 의원과 민주당 의원 사이의 정책 연합과 관련한 통...</td>\n",
       "      <td>{'word': '민주국민당', 'start_idx': 9, 'end_idx': 1...</td>\n",
       "      <td>{'word': '민주당', 'start_idx': 23, 'end_idx': 25...</td>\n",
       "      <td>no_relation</td>\n",
       "      <td>wikipedia</td>\n",
       "    </tr>\n",
       "    <tr>\n",
       "      <th>2500</th>\n",
       "      <td>2500</td>\n",
       "      <td>2001년 4월 민주국민당 김윤환 의원과 민주당 의원 사이의 정책 연합과 관련한 통...</td>\n",
       "      <td>{'word': '민주국민당', 'start_idx': 9, 'end_idx': 1...</td>\n",
       "      <td>{'word': '민주당', 'start_idx': 23, 'end_idx': 25...</td>\n",
       "      <td>no_relation</td>\n",
       "      <td>wikipedia</td>\n",
       "    </tr>\n",
       "    <tr>\n",
       "      <th>3547</th>\n",
       "      <td>3547</td>\n",
       "      <td>2010년 10월 15일 전라북도청을 방문한 맹형규 행정안전부 장관은 도내 지자체간...</td>\n",
       "      <td>{'word': '전라북도청', 'start_idx': 14, 'end_idx': ...</td>\n",
       "      <td>{'word': '행정안전부', 'start_idx': 29, 'end_idx': ...</td>\n",
       "      <td>no_relation</td>\n",
       "      <td>wikipedia</td>\n",
       "    </tr>\n",
       "    <tr>\n",
       "      <th>...</th>\n",
       "      <td>...</td>\n",
       "      <td>...</td>\n",
       "      <td>...</td>\n",
       "      <td>...</td>\n",
       "      <td>...</td>\n",
       "      <td>...</td>\n",
       "    </tr>\n",
       "    <tr>\n",
       "      <th>27325</th>\n",
       "      <td>27325</td>\n",
       "      <td>펀치넬로는 10cm의 권정열이 피처링으로 참여한 '미안해서 미안해'로 무대에 올랐다.</td>\n",
       "      <td>{'word': '권정열', 'start_idx': 12, 'end_idx': 14...</td>\n",
       "      <td>{'word': '10cm', 'start_idx': 6, 'end_idx': 9,...</td>\n",
       "      <td>per:employee_of</td>\n",
       "      <td>wikitree</td>\n",
       "    </tr>\n",
       "    <tr>\n",
       "      <th>14658</th>\n",
       "      <td>14658</td>\n",
       "      <td>함연지는 함영준 오뚜기 회장의 장녀다.</td>\n",
       "      <td>{'word': '오뚜기', 'start_idx': 9, 'end_idx': 11,...</td>\n",
       "      <td>{'word': '함영준', 'start_idx': 5, 'end_idx': 7, ...</td>\n",
       "      <td>org:top_members/employees</td>\n",
       "      <td>wikitree</td>\n",
       "    </tr>\n",
       "    <tr>\n",
       "      <th>6936</th>\n",
       "      <td>6936</td>\n",
       "      <td>함연지는 함영준 오뚜기 회장의 장녀다.</td>\n",
       "      <td>{'word': '오뚜기', 'start_idx': 9, 'end_idx': 11,...</td>\n",
       "      <td>{'word': '함영준', 'start_idx': 5, 'end_idx': 7, ...</td>\n",
       "      <td>org:top_members/employees</td>\n",
       "      <td>wikitree</td>\n",
       "    </tr>\n",
       "    <tr>\n",
       "      <th>20898</th>\n",
       "      <td>20898</td>\n",
       "      <td>화려한 재기를 뒤로하고 고(故) 안재환에게 돈을 빌려줬다는 루머로 마음고생을 하던 ...</td>\n",
       "      <td>{'word': '최진실', 'start_idx': 46, 'end_idx': 48...</td>\n",
       "      <td>{'word': '2008년 10월 2일', 'start_idx': 51, 'end...</td>\n",
       "      <td>per:date_of_death</td>\n",
       "      <td>wikitree</td>\n",
       "    </tr>\n",
       "    <tr>\n",
       "      <th>4248</th>\n",
       "      <td>4248</td>\n",
       "      <td>화려한 재기를 뒤로하고 고(故) 안재환에게 돈을 빌려줬다는 루머로 마음고생을 하던 ...</td>\n",
       "      <td>{'word': '최진실', 'start_idx': 46, 'end_idx': 48...</td>\n",
       "      <td>{'word': '2008년 10월 2일', 'start_idx': 51, 'end...</td>\n",
       "      <td>per:date_of_death</td>\n",
       "      <td>wikitree</td>\n",
       "    </tr>\n",
       "  </tbody>\n",
       "</table>\n",
       "<p>84 rows × 6 columns</p>\n",
       "</div>"
      ],
      "text/plain": [
       "          id                                           sentence  \\\n",
       "22090  22090  1959-60 시즌 이후의 알파 에트니키 / 수페르리가 엘라다, 그리스 컵, 그리고...   \n",
       "9618    9618  1959-60 시즌 이후의 알파 에트니키 / 수페르리가 엘라다, 그리스 컵, 그리고...   \n",
       "25368  25368  2001년 4월 민주국민당 김윤환 의원과 민주당 의원 사이의 정책 연합과 관련한 통...   \n",
       "2500    2500  2001년 4월 민주국민당 김윤환 의원과 민주당 의원 사이의 정책 연합과 관련한 통...   \n",
       "3547    3547  2010년 10월 15일 전라북도청을 방문한 맹형규 행정안전부 장관은 도내 지자체간...   \n",
       "...      ...                                                ...   \n",
       "27325  27325    펀치넬로는 10cm의 권정열이 피처링으로 참여한 '미안해서 미안해'로 무대에 올랐다.   \n",
       "14658  14658                              함연지는 함영준 오뚜기 회장의 장녀다.   \n",
       "6936    6936                              함연지는 함영준 오뚜기 회장의 장녀다.   \n",
       "20898  20898  화려한 재기를 뒤로하고 고(故) 안재환에게 돈을 빌려줬다는 루머로 마음고생을 하던 ...   \n",
       "4248    4248  화려한 재기를 뒤로하고 고(故) 안재환에게 돈을 빌려줬다는 루머로 마음고생을 하던 ...   \n",
       "\n",
       "                                          subject_entity  \\\n",
       "22090  {'word': '수페르리가 엘라다', 'start_idx': 25, 'end_id...   \n",
       "9618   {'word': '수페르리가 엘라다', 'start_idx': 25, 'end_id...   \n",
       "25368  {'word': '민주국민당', 'start_idx': 9, 'end_idx': 1...   \n",
       "2500   {'word': '민주국민당', 'start_idx': 9, 'end_idx': 1...   \n",
       "3547   {'word': '전라북도청', 'start_idx': 14, 'end_idx': ...   \n",
       "...                                                  ...   \n",
       "27325  {'word': '권정열', 'start_idx': 12, 'end_idx': 14...   \n",
       "14658  {'word': '오뚜기', 'start_idx': 9, 'end_idx': 11,...   \n",
       "6936   {'word': '오뚜기', 'start_idx': 9, 'end_idx': 11,...   \n",
       "20898  {'word': '최진실', 'start_idx': 46, 'end_idx': 48...   \n",
       "4248   {'word': '최진실', 'start_idx': 46, 'end_idx': 48...   \n",
       "\n",
       "                                           object_entity  \\\n",
       "22090  {'word': '그리스', 'start_idx': 36, 'end_idx': 38...   \n",
       "9618   {'word': '그리스', 'start_idx': 36, 'end_idx': 38...   \n",
       "25368  {'word': '민주당', 'start_idx': 23, 'end_idx': 25...   \n",
       "2500   {'word': '민주당', 'start_idx': 23, 'end_idx': 25...   \n",
       "3547   {'word': '행정안전부', 'start_idx': 29, 'end_idx': ...   \n",
       "...                                                  ...   \n",
       "27325  {'word': '10cm', 'start_idx': 6, 'end_idx': 9,...   \n",
       "14658  {'word': '함영준', 'start_idx': 5, 'end_idx': 7, ...   \n",
       "6936   {'word': '함영준', 'start_idx': 5, 'end_idx': 7, ...   \n",
       "20898  {'word': '2008년 10월 2일', 'start_idx': 51, 'end...   \n",
       "4248   {'word': '2008년 10월 2일', 'start_idx': 51, 'end...   \n",
       "\n",
       "                           label     source  \n",
       "22090                no_relation  wikipedia  \n",
       "9618                 no_relation  wikipedia  \n",
       "25368                no_relation  wikipedia  \n",
       "2500                 no_relation  wikipedia  \n",
       "3547                 no_relation  wikipedia  \n",
       "...                          ...        ...  \n",
       "27325            per:employee_of   wikitree  \n",
       "14658  org:top_members/employees   wikitree  \n",
       "6936   org:top_members/employees   wikitree  \n",
       "20898          per:date_of_death   wikitree  \n",
       "4248           per:date_of_death   wikitree  \n",
       "\n",
       "[84 rows x 6 columns]"
      ]
     },
     "execution_count": 62,
     "metadata": {},
     "output_type": "execute_result"
    }
   ],
   "source": [
    "# 완전히 중복되는 문장 찾기\n",
    "repeat = data[data[['sentence', 'subject_entity', 'object_entity', 'label', 'source']].duplicated(keep=False)].sort_values('sentence')\n",
    "repeat"
   ]
  }
 ],
 "metadata": {
  "kernelspec": {
   "display_name": "Python 3 (ipykernel)",
   "language": "python",
   "name": "python3"
  },
  "language_info": {
   "codemirror_mode": {
    "name": "ipython",
    "version": 3
   },
   "file_extension": ".py",
   "mimetype": "text/x-python",
   "name": "python",
   "nbconvert_exporter": "python",
   "pygments_lexer": "ipython3",
   "version": "3.8.5"
  },
  "vscode": {
   "interpreter": {
    "hash": "d4d1e4263499bec80672ea0156c357c1ee493ec2b1c70f0acce89fc37c4a6abe"
   }
  }
 },
 "nbformat": 4,
 "nbformat_minor": 4
}
