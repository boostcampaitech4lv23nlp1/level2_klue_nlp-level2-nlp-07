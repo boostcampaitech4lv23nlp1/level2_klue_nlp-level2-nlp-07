{
 "cells": [
  {
   "cell_type": "code",
   "execution_count": 156,
   "metadata": {},
   "outputs": [],
   "source": [
    "import pandas as pd"
   ]
  },
  {
   "cell_type": "code",
   "execution_count": 121,
   "metadata": {},
   "outputs": [
    {
     "data": {
      "text/html": [
       "<div>\n",
       "<style scoped>\n",
       "    .dataframe tbody tr th:only-of-type {\n",
       "        vertical-align: middle;\n",
       "    }\n",
       "\n",
       "    .dataframe tbody tr th {\n",
       "        vertical-align: top;\n",
       "    }\n",
       "\n",
       "    .dataframe thead th {\n",
       "        text-align: right;\n",
       "    }\n",
       "</style>\n",
       "<table border=\"1\" class=\"dataframe\">\n",
       "  <thead>\n",
       "    <tr style=\"text-align: right;\">\n",
       "      <th></th>\n",
       "      <th>id</th>\n",
       "      <th>sentence</th>\n",
       "      <th>subject_entity</th>\n",
       "      <th>object_entity</th>\n",
       "      <th>label</th>\n",
       "      <th>source</th>\n",
       "    </tr>\n",
       "  </thead>\n",
       "  <tbody>\n",
       "    <tr>\n",
       "      <th>0</th>\n",
       "      <td>0</td>\n",
       "      <td>〈Something〉는 조지 해리슨이 쓰고 비틀즈가 1969년 앨범 《Abbey R...</td>\n",
       "      <td>{'word': '비틀즈', 'start_idx': 24, 'end_idx': 26...</td>\n",
       "      <td>{'word': '조지 해리슨', 'start_idx': 13, 'end_idx':...</td>\n",
       "      <td>no_relation</td>\n",
       "      <td>wikipedia</td>\n",
       "    </tr>\n",
       "    <tr>\n",
       "      <th>1</th>\n",
       "      <td>1</td>\n",
       "      <td>호남이 기반인 바른미래당·대안신당·민주평화당이 우여곡절 끝에 합당해 민생당(가칭)으...</td>\n",
       "      <td>{'word': '민주평화당', 'start_idx': 19, 'end_idx': ...</td>\n",
       "      <td>{'word': '대안신당', 'start_idx': 14, 'end_idx': 1...</td>\n",
       "      <td>no_relation</td>\n",
       "      <td>wikitree</td>\n",
       "    </tr>\n",
       "    <tr>\n",
       "      <th>2</th>\n",
       "      <td>2</td>\n",
       "      <td>K리그2에서 성적 1위를 달리고 있는 광주FC는 지난 26일 한국프로축구연맹으로부터...</td>\n",
       "      <td>{'word': '광주FC', 'start_idx': 21, 'end_idx': 2...</td>\n",
       "      <td>{'word': '한국프로축구연맹', 'start_idx': 34, 'end_idx...</td>\n",
       "      <td>org:member_of</td>\n",
       "      <td>wikitree</td>\n",
       "    </tr>\n",
       "    <tr>\n",
       "      <th>3</th>\n",
       "      <td>3</td>\n",
       "      <td>균일가 생활용품점 (주)아성다이소(대표 박정부)는 코로나19 바이러스로 어려움을 겪...</td>\n",
       "      <td>{'word': '아성다이소', 'start_idx': 13, 'end_idx': ...</td>\n",
       "      <td>{'word': '박정부', 'start_idx': 22, 'end_idx': 24...</td>\n",
       "      <td>org:top_members/employees</td>\n",
       "      <td>wikitree</td>\n",
       "    </tr>\n",
       "    <tr>\n",
       "      <th>4</th>\n",
       "      <td>4</td>\n",
       "      <td>1967년 프로 야구 드래프트 1순위로 요미우리 자이언츠에게 입단하면서 등번호는 8...</td>\n",
       "      <td>{'word': '요미우리 자이언츠', 'start_idx': 22, 'end_id...</td>\n",
       "      <td>{'word': '1967', 'start_idx': 0, 'end_idx': 3,...</td>\n",
       "      <td>no_relation</td>\n",
       "      <td>wikipedia</td>\n",
       "    </tr>\n",
       "    <tr>\n",
       "      <th>...</th>\n",
       "      <td>...</td>\n",
       "      <td>...</td>\n",
       "      <td>...</td>\n",
       "      <td>...</td>\n",
       "      <td>...</td>\n",
       "      <td>...</td>\n",
       "    </tr>\n",
       "    <tr>\n",
       "      <th>32465</th>\n",
       "      <td>32465</td>\n",
       "      <td>한국당은 7일 오전 9시부터 오후 5시까지 진행된 원내대표 및 정책위의장 후보자 등...</td>\n",
       "      <td>{'word': '유기준', 'start_idx': 93, 'end_idx': 95...</td>\n",
       "      <td>{'word': '부산 서구·동구', 'start_idx': 100, 'end_id...</td>\n",
       "      <td>per:employee_of</td>\n",
       "      <td>wikitree</td>\n",
       "    </tr>\n",
       "    <tr>\n",
       "      <th>32466</th>\n",
       "      <td>32466</td>\n",
       "      <td>법포는 다시 최시형, 서병학, 손병희 직계인 북접과 다시 서장옥, 전봉준, 김개남을...</td>\n",
       "      <td>{'word': '최시형', 'start_idx': 7, 'end_idx': 9, ...</td>\n",
       "      <td>{'word': '손병희', 'start_idx': 17, 'end_idx': 19...</td>\n",
       "      <td>per:colleagues</td>\n",
       "      <td>wikipedia</td>\n",
       "    </tr>\n",
       "    <tr>\n",
       "      <th>32467</th>\n",
       "      <td>32467</td>\n",
       "      <td>완도군(군수 신우철)이 국토교통부에서 실시한 '2019 교통문화지수 실태조사'에서 ...</td>\n",
       "      <td>{'word': '완도군', 'start_idx': 0, 'end_idx': 2, ...</td>\n",
       "      <td>{'word': '신우철', 'start_idx': 7, 'end_idx': 9, ...</td>\n",
       "      <td>org:top_members/employees</td>\n",
       "      <td>wikitree</td>\n",
       "    </tr>\n",
       "    <tr>\n",
       "      <th>32468</th>\n",
       "      <td>32468</td>\n",
       "      <td>중앙일보, JTBC 회장을 지낸 이후 중앙홀딩스 회장, 재단법인 한반도평화만들기 이...</td>\n",
       "      <td>{'word': 'JTBC', 'start_idx': 6, 'end_idx': 9,...</td>\n",
       "      <td>{'word': '중앙홀딩스', 'start_idx': 21, 'end_idx': ...</td>\n",
       "      <td>no_relation</td>\n",
       "      <td>wikipedia</td>\n",
       "    </tr>\n",
       "    <tr>\n",
       "      <th>32469</th>\n",
       "      <td>32469</td>\n",
       "      <td>화순군(군수 구충곤)은 17일 동면의 이장 20여 명이 코로나 19 예방을 위해 버...</td>\n",
       "      <td>{'word': '화순군', 'start_idx': 0, 'end_idx': 2, ...</td>\n",
       "      <td>{'word': '구충곤', 'start_idx': 7, 'end_idx': 9, ...</td>\n",
       "      <td>org:top_members/employees</td>\n",
       "      <td>wikitree</td>\n",
       "    </tr>\n",
       "  </tbody>\n",
       "</table>\n",
       "<p>32470 rows × 6 columns</p>\n",
       "</div>"
      ],
      "text/plain": [
       "          id                                           sentence  \\\n",
       "0          0  〈Something〉는 조지 해리슨이 쓰고 비틀즈가 1969년 앨범 《Abbey R...   \n",
       "1          1  호남이 기반인 바른미래당·대안신당·민주평화당이 우여곡절 끝에 합당해 민생당(가칭)으...   \n",
       "2          2  K리그2에서 성적 1위를 달리고 있는 광주FC는 지난 26일 한국프로축구연맹으로부터...   \n",
       "3          3  균일가 생활용품점 (주)아성다이소(대표 박정부)는 코로나19 바이러스로 어려움을 겪...   \n",
       "4          4  1967년 프로 야구 드래프트 1순위로 요미우리 자이언츠에게 입단하면서 등번호는 8...   \n",
       "...      ...                                                ...   \n",
       "32465  32465  한국당은 7일 오전 9시부터 오후 5시까지 진행된 원내대표 및 정책위의장 후보자 등...   \n",
       "32466  32466  법포는 다시 최시형, 서병학, 손병희 직계인 북접과 다시 서장옥, 전봉준, 김개남을...   \n",
       "32467  32467  완도군(군수 신우철)이 국토교통부에서 실시한 '2019 교통문화지수 실태조사'에서 ...   \n",
       "32468  32468  중앙일보, JTBC 회장을 지낸 이후 중앙홀딩스 회장, 재단법인 한반도평화만들기 이...   \n",
       "32469  32469  화순군(군수 구충곤)은 17일 동면의 이장 20여 명이 코로나 19 예방을 위해 버...   \n",
       "\n",
       "                                          subject_entity  \\\n",
       "0      {'word': '비틀즈', 'start_idx': 24, 'end_idx': 26...   \n",
       "1      {'word': '민주평화당', 'start_idx': 19, 'end_idx': ...   \n",
       "2      {'word': '광주FC', 'start_idx': 21, 'end_idx': 2...   \n",
       "3      {'word': '아성다이소', 'start_idx': 13, 'end_idx': ...   \n",
       "4      {'word': '요미우리 자이언츠', 'start_idx': 22, 'end_id...   \n",
       "...                                                  ...   \n",
       "32465  {'word': '유기준', 'start_idx': 93, 'end_idx': 95...   \n",
       "32466  {'word': '최시형', 'start_idx': 7, 'end_idx': 9, ...   \n",
       "32467  {'word': '완도군', 'start_idx': 0, 'end_idx': 2, ...   \n",
       "32468  {'word': 'JTBC', 'start_idx': 6, 'end_idx': 9,...   \n",
       "32469  {'word': '화순군', 'start_idx': 0, 'end_idx': 2, ...   \n",
       "\n",
       "                                           object_entity  \\\n",
       "0      {'word': '조지 해리슨', 'start_idx': 13, 'end_idx':...   \n",
       "1      {'word': '대안신당', 'start_idx': 14, 'end_idx': 1...   \n",
       "2      {'word': '한국프로축구연맹', 'start_idx': 34, 'end_idx...   \n",
       "3      {'word': '박정부', 'start_idx': 22, 'end_idx': 24...   \n",
       "4      {'word': '1967', 'start_idx': 0, 'end_idx': 3,...   \n",
       "...                                                  ...   \n",
       "32465  {'word': '부산 서구·동구', 'start_idx': 100, 'end_id...   \n",
       "32466  {'word': '손병희', 'start_idx': 17, 'end_idx': 19...   \n",
       "32467  {'word': '신우철', 'start_idx': 7, 'end_idx': 9, ...   \n",
       "32468  {'word': '중앙홀딩스', 'start_idx': 21, 'end_idx': ...   \n",
       "32469  {'word': '구충곤', 'start_idx': 7, 'end_idx': 9, ...   \n",
       "\n",
       "                           label     source  \n",
       "0                    no_relation  wikipedia  \n",
       "1                    no_relation   wikitree  \n",
       "2                  org:member_of   wikitree  \n",
       "3      org:top_members/employees   wikitree  \n",
       "4                    no_relation  wikipedia  \n",
       "...                          ...        ...  \n",
       "32465            per:employee_of   wikitree  \n",
       "32466             per:colleagues  wikipedia  \n",
       "32467  org:top_members/employees   wikitree  \n",
       "32468                no_relation  wikipedia  \n",
       "32469  org:top_members/employees   wikitree  \n",
       "\n",
       "[32470 rows x 6 columns]"
      ]
     },
     "execution_count": 121,
     "metadata": {},
     "output_type": "execute_result"
    }
   ],
   "source": [
    "tr = pd.read_csv('/opt/ml/dataset/train/train.csv')\n",
    "tr"
   ]
  },
  {
   "cell_type": "code",
   "execution_count": 122,
   "metadata": {},
   "outputs": [],
   "source": [
    "def preprocessing_dataset(dataset):\n",
    "  \"\"\" 처음 불러온 csv 파일을 원하는 형태의 DataFrame으로 변경 시켜줍니다.\"\"\"\n",
    "  subject_entity = []\n",
    "  object_entity = []\n",
    "  for i,j in zip(dataset['subject_entity'], dataset['object_entity']):\n",
    "    i = i[1:-1].split(',')[0].split(':')[1]\n",
    "    j = j[1:-1].split(',')[0].split(':')[1]\n",
    "\n",
    "    subject_entity.append(i)\n",
    "    object_entity.append(j)\n",
    "  out_dataset = pd.DataFrame({'id':dataset['id'], 'sentence':dataset['sentence'],'subject_entity':subject_entity,'object_entity':object_entity,'label':dataset['label'],})\n",
    "  return out_dataset"
   ]
  },
  {
   "cell_type": "code",
   "execution_count": 123,
   "metadata": {},
   "outputs": [
    {
     "data": {
      "text/html": [
       "<div>\n",
       "<style scoped>\n",
       "    .dataframe tbody tr th:only-of-type {\n",
       "        vertical-align: middle;\n",
       "    }\n",
       "\n",
       "    .dataframe tbody tr th {\n",
       "        vertical-align: top;\n",
       "    }\n",
       "\n",
       "    .dataframe thead th {\n",
       "        text-align: right;\n",
       "    }\n",
       "</style>\n",
       "<table border=\"1\" class=\"dataframe\">\n",
       "  <thead>\n",
       "    <tr style=\"text-align: right;\">\n",
       "      <th></th>\n",
       "      <th>id</th>\n",
       "      <th>sentence</th>\n",
       "      <th>subject_entity</th>\n",
       "      <th>object_entity</th>\n",
       "      <th>label</th>\n",
       "    </tr>\n",
       "  </thead>\n",
       "  <tbody>\n",
       "    <tr>\n",
       "      <th>0</th>\n",
       "      <td>0</td>\n",
       "      <td>〈Something〉는 조지 해리슨이 쓰고 비틀즈가 1969년 앨범 《Abbey R...</td>\n",
       "      <td>'비틀즈'</td>\n",
       "      <td>'조지 해리슨'</td>\n",
       "      <td>no_relation</td>\n",
       "    </tr>\n",
       "    <tr>\n",
       "      <th>1</th>\n",
       "      <td>1</td>\n",
       "      <td>호남이 기반인 바른미래당·대안신당·민주평화당이 우여곡절 끝에 합당해 민생당(가칭)으...</td>\n",
       "      <td>'민주평화당'</td>\n",
       "      <td>'대안신당'</td>\n",
       "      <td>no_relation</td>\n",
       "    </tr>\n",
       "    <tr>\n",
       "      <th>2</th>\n",
       "      <td>2</td>\n",
       "      <td>K리그2에서 성적 1위를 달리고 있는 광주FC는 지난 26일 한국프로축구연맹으로부터...</td>\n",
       "      <td>'광주FC'</td>\n",
       "      <td>'한국프로축구연맹'</td>\n",
       "      <td>org:member_of</td>\n",
       "    </tr>\n",
       "    <tr>\n",
       "      <th>3</th>\n",
       "      <td>3</td>\n",
       "      <td>균일가 생활용품점 (주)아성다이소(대표 박정부)는 코로나19 바이러스로 어려움을 겪...</td>\n",
       "      <td>'아성다이소'</td>\n",
       "      <td>'박정부'</td>\n",
       "      <td>org:top_members/employees</td>\n",
       "    </tr>\n",
       "    <tr>\n",
       "      <th>4</th>\n",
       "      <td>4</td>\n",
       "      <td>1967년 프로 야구 드래프트 1순위로 요미우리 자이언츠에게 입단하면서 등번호는 8...</td>\n",
       "      <td>'요미우리 자이언츠'</td>\n",
       "      <td>'1967'</td>\n",
       "      <td>no_relation</td>\n",
       "    </tr>\n",
       "    <tr>\n",
       "      <th>...</th>\n",
       "      <td>...</td>\n",
       "      <td>...</td>\n",
       "      <td>...</td>\n",
       "      <td>...</td>\n",
       "      <td>...</td>\n",
       "    </tr>\n",
       "    <tr>\n",
       "      <th>32465</th>\n",
       "      <td>32465</td>\n",
       "      <td>한국당은 7일 오전 9시부터 오후 5시까지 진행된 원내대표 및 정책위의장 후보자 등...</td>\n",
       "      <td>'유기준'</td>\n",
       "      <td>'부산 서구·동구'</td>\n",
       "      <td>per:employee_of</td>\n",
       "    </tr>\n",
       "    <tr>\n",
       "      <th>32466</th>\n",
       "      <td>32466</td>\n",
       "      <td>법포는 다시 최시형, 서병학, 손병희 직계인 북접과 다시 서장옥, 전봉준, 김개남을...</td>\n",
       "      <td>'최시형'</td>\n",
       "      <td>'손병희'</td>\n",
       "      <td>per:colleagues</td>\n",
       "    </tr>\n",
       "    <tr>\n",
       "      <th>32467</th>\n",
       "      <td>32467</td>\n",
       "      <td>완도군(군수 신우철)이 국토교통부에서 실시한 '2019 교통문화지수 실태조사'에서 ...</td>\n",
       "      <td>'완도군'</td>\n",
       "      <td>'신우철'</td>\n",
       "      <td>org:top_members/employees</td>\n",
       "    </tr>\n",
       "    <tr>\n",
       "      <th>32468</th>\n",
       "      <td>32468</td>\n",
       "      <td>중앙일보, JTBC 회장을 지낸 이후 중앙홀딩스 회장, 재단법인 한반도평화만들기 이...</td>\n",
       "      <td>'JTBC'</td>\n",
       "      <td>'중앙홀딩스'</td>\n",
       "      <td>no_relation</td>\n",
       "    </tr>\n",
       "    <tr>\n",
       "      <th>32469</th>\n",
       "      <td>32469</td>\n",
       "      <td>화순군(군수 구충곤)은 17일 동면의 이장 20여 명이 코로나 19 예방을 위해 버...</td>\n",
       "      <td>'화순군'</td>\n",
       "      <td>'구충곤'</td>\n",
       "      <td>org:top_members/employees</td>\n",
       "    </tr>\n",
       "  </tbody>\n",
       "</table>\n",
       "<p>32470 rows × 5 columns</p>\n",
       "</div>"
      ],
      "text/plain": [
       "          id                                           sentence  \\\n",
       "0          0  〈Something〉는 조지 해리슨이 쓰고 비틀즈가 1969년 앨범 《Abbey R...   \n",
       "1          1  호남이 기반인 바른미래당·대안신당·민주평화당이 우여곡절 끝에 합당해 민생당(가칭)으...   \n",
       "2          2  K리그2에서 성적 1위를 달리고 있는 광주FC는 지난 26일 한국프로축구연맹으로부터...   \n",
       "3          3  균일가 생활용품점 (주)아성다이소(대표 박정부)는 코로나19 바이러스로 어려움을 겪...   \n",
       "4          4  1967년 프로 야구 드래프트 1순위로 요미우리 자이언츠에게 입단하면서 등번호는 8...   \n",
       "...      ...                                                ...   \n",
       "32465  32465  한국당은 7일 오전 9시부터 오후 5시까지 진행된 원내대표 및 정책위의장 후보자 등...   \n",
       "32466  32466  법포는 다시 최시형, 서병학, 손병희 직계인 북접과 다시 서장옥, 전봉준, 김개남을...   \n",
       "32467  32467  완도군(군수 신우철)이 국토교통부에서 실시한 '2019 교통문화지수 실태조사'에서 ...   \n",
       "32468  32468  중앙일보, JTBC 회장을 지낸 이후 중앙홀딩스 회장, 재단법인 한반도평화만들기 이...   \n",
       "32469  32469  화순군(군수 구충곤)은 17일 동면의 이장 20여 명이 코로나 19 예방을 위해 버...   \n",
       "\n",
       "      subject_entity object_entity                      label  \n",
       "0              '비틀즈'      '조지 해리슨'                no_relation  \n",
       "1            '민주평화당'        '대안신당'                no_relation  \n",
       "2             '광주FC'    '한국프로축구연맹'              org:member_of  \n",
       "3            '아성다이소'         '박정부'  org:top_members/employees  \n",
       "4        '요미우리 자이언츠'        '1967'                no_relation  \n",
       "...              ...           ...                        ...  \n",
       "32465          '유기준'    '부산 서구·동구'            per:employee_of  \n",
       "32466          '최시형'         '손병희'             per:colleagues  \n",
       "32467          '완도군'         '신우철'  org:top_members/employees  \n",
       "32468         'JTBC'       '중앙홀딩스'                no_relation  \n",
       "32469          '화순군'         '구충곤'  org:top_members/employees  \n",
       "\n",
       "[32470 rows x 5 columns]"
      ]
     },
     "execution_count": 123,
     "metadata": {},
     "output_type": "execute_result"
    }
   ],
   "source": [
    "preprocessing_dataset(tr)"
   ]
  },
  {
   "cell_type": "code",
   "execution_count": 124,
   "metadata": {},
   "outputs": [
    {
     "data": {
      "text/html": [
       "<div>\n",
       "<style scoped>\n",
       "    .dataframe tbody tr th:only-of-type {\n",
       "        vertical-align: middle;\n",
       "    }\n",
       "\n",
       "    .dataframe tbody tr th {\n",
       "        vertical-align: top;\n",
       "    }\n",
       "\n",
       "    .dataframe thead th {\n",
       "        text-align: right;\n",
       "    }\n",
       "</style>\n",
       "<table border=\"1\" class=\"dataframe\">\n",
       "  <thead>\n",
       "    <tr style=\"text-align: right;\">\n",
       "      <th></th>\n",
       "      <th>sentence</th>\n",
       "      <th>label</th>\n",
       "    </tr>\n",
       "  </thead>\n",
       "  <tbody>\n",
       "    <tr>\n",
       "      <th>0</th>\n",
       "      <td>〈Something〉는 조지 해리슨이 쓰고 비틀즈가 1969년 앨범 《Abbey R...</td>\n",
       "      <td>no_relation</td>\n",
       "    </tr>\n",
       "    <tr>\n",
       "      <th>1</th>\n",
       "      <td>호남이 기반인 바른미래당·대안신당·민주평화당이 우여곡절 끝에 합당해 민생당(가칭)으...</td>\n",
       "      <td>no_relation</td>\n",
       "    </tr>\n",
       "    <tr>\n",
       "      <th>2</th>\n",
       "      <td>K리그2에서 성적 1위를 달리고 있는 광주FC는 지난 26일 한국프로축구연맹으로부터...</td>\n",
       "      <td>org:member_of</td>\n",
       "    </tr>\n",
       "    <tr>\n",
       "      <th>3</th>\n",
       "      <td>균일가 생활용품점 (주)아성다이소(대표 박정부)는 코로나19 바이러스로 어려움을 겪...</td>\n",
       "      <td>org:top_members/employees</td>\n",
       "    </tr>\n",
       "    <tr>\n",
       "      <th>4</th>\n",
       "      <td>1967년 프로 야구 드래프트 1순위로 요미우리 자이언츠에게 입단하면서 등번호는 8...</td>\n",
       "      <td>no_relation</td>\n",
       "    </tr>\n",
       "    <tr>\n",
       "      <th>...</th>\n",
       "      <td>...</td>\n",
       "      <td>...</td>\n",
       "    </tr>\n",
       "    <tr>\n",
       "      <th>32465</th>\n",
       "      <td>한국당은 7일 오전 9시부터 오후 5시까지 진행된 원내대표 및 정책위의장 후보자 등...</td>\n",
       "      <td>per:employee_of</td>\n",
       "    </tr>\n",
       "    <tr>\n",
       "      <th>32466</th>\n",
       "      <td>법포는 다시 최시형, 서병학, 손병희 직계인 북접과 다시 서장옥, 전봉준, 김개남을...</td>\n",
       "      <td>per:colleagues</td>\n",
       "    </tr>\n",
       "    <tr>\n",
       "      <th>32467</th>\n",
       "      <td>완도군(군수 신우철)이 국토교통부에서 실시한 '2019 교통문화지수 실태조사'에서 ...</td>\n",
       "      <td>org:top_members/employees</td>\n",
       "    </tr>\n",
       "    <tr>\n",
       "      <th>32468</th>\n",
       "      <td>중앙일보, JTBC 회장을 지낸 이후 중앙홀딩스 회장, 재단법인 한반도평화만들기 이...</td>\n",
       "      <td>no_relation</td>\n",
       "    </tr>\n",
       "    <tr>\n",
       "      <th>32469</th>\n",
       "      <td>화순군(군수 구충곤)은 17일 동면의 이장 20여 명이 코로나 19 예방을 위해 버...</td>\n",
       "      <td>org:top_members/employees</td>\n",
       "    </tr>\n",
       "  </tbody>\n",
       "</table>\n",
       "<p>32470 rows × 2 columns</p>\n",
       "</div>"
      ],
      "text/plain": [
       "                                                sentence  \\\n",
       "0      〈Something〉는 조지 해리슨이 쓰고 비틀즈가 1969년 앨범 《Abbey R...   \n",
       "1      호남이 기반인 바른미래당·대안신당·민주평화당이 우여곡절 끝에 합당해 민생당(가칭)으...   \n",
       "2      K리그2에서 성적 1위를 달리고 있는 광주FC는 지난 26일 한국프로축구연맹으로부터...   \n",
       "3      균일가 생활용품점 (주)아성다이소(대표 박정부)는 코로나19 바이러스로 어려움을 겪...   \n",
       "4      1967년 프로 야구 드래프트 1순위로 요미우리 자이언츠에게 입단하면서 등번호는 8...   \n",
       "...                                                  ...   \n",
       "32465  한국당은 7일 오전 9시부터 오후 5시까지 진행된 원내대표 및 정책위의장 후보자 등...   \n",
       "32466  법포는 다시 최시형, 서병학, 손병희 직계인 북접과 다시 서장옥, 전봉준, 김개남을...   \n",
       "32467  완도군(군수 신우철)이 국토교통부에서 실시한 '2019 교통문화지수 실태조사'에서 ...   \n",
       "32468  중앙일보, JTBC 회장을 지낸 이후 중앙홀딩스 회장, 재단법인 한반도평화만들기 이...   \n",
       "32469  화순군(군수 구충곤)은 17일 동면의 이장 20여 명이 코로나 19 예방을 위해 버...   \n",
       "\n",
       "                           label  \n",
       "0                    no_relation  \n",
       "1                    no_relation  \n",
       "2                  org:member_of  \n",
       "3      org:top_members/employees  \n",
       "4                    no_relation  \n",
       "...                          ...  \n",
       "32465            per:employee_of  \n",
       "32466             per:colleagues  \n",
       "32467  org:top_members/employees  \n",
       "32468                no_relation  \n",
       "32469  org:top_members/employees  \n",
       "\n",
       "[32470 rows x 2 columns]"
      ]
     },
     "execution_count": 124,
     "metadata": {},
     "output_type": "execute_result"
    }
   ],
   "source": [
    "tr.loc[:,['sentence','label']]"
   ]
  },
  {
   "cell_type": "code",
   "execution_count": 125,
   "metadata": {},
   "outputs": [],
   "source": [
    "def column_selection(dataset, columns):\n",
    "  out_columns = dataset.loc[:,columns]\n",
    "  return out_columns"
   ]
  },
  {
   "cell_type": "code",
   "execution_count": 126,
   "metadata": {},
   "outputs": [
    {
     "data": {
      "text/plain": [
       "Index(['id', 'sentence', 'subject_entity', 'object_entity', 'label', 'source'], dtype='object')"
      ]
     },
     "execution_count": 126,
     "metadata": {},
     "output_type": "execute_result"
    }
   ],
   "source": [
    "tr.columns"
   ]
  },
  {
   "cell_type": "code",
   "execution_count": 127,
   "metadata": {},
   "outputs": [
    {
     "data": {
      "text/plain": [
       "array(['〈Something〉는 조지 해리슨이 쓰고 비틀즈가 1969년 앨범 《Abbey Road》에 담은 노래다.',\n",
       "       '호남이 기반인 바른미래당·대안신당·민주평화당이 우여곡절 끝에 합당해 민생당(가칭)으로 재탄생한다.',\n",
       "       'K리그2에서 성적 1위를 달리고 있는 광주FC는 지난 26일 한국프로축구연맹으로부터 관중 유치 성과와 마케팅 성과를 인정받아 ‘풀 스타디움상’과 ‘플러스 스타디움상’을 수상했다.',\n",
       "       ...,\n",
       "       \"완도군(군수 신우철)이 국토교통부에서 실시한 '2019 교통문화지수 실태조사'에서 229개 기초지자체 중 최상위 등급인 A등급을 받으면서 전국에서 가장 높은 교통안전 인식 수준을 갖고 있는 것으로 나타났다.\",\n",
       "       '중앙일보, JTBC 회장을 지낸 이후 중앙홀딩스 회장, 재단법인 한반도평화만들기 이사장, 한국기원 총재를 맡고 있다.',\n",
       "       '화순군(군수 구충곤)은 17일 동면의 이장 20여 명이 코로나 19 예방을 위해 버스 승강장, 공중화장실 등 다중이용시설과 오동리 천운아파트 주변을 소독하는 방역 봉사활동을 펼쳤다고 밝혔다.'],\n",
       "      dtype=object)"
      ]
     },
     "execution_count": 127,
     "metadata": {},
     "output_type": "execute_result"
    }
   ],
   "source": [
    "tr['sentence'].values"
   ]
  },
  {
   "cell_type": "code",
   "execution_count": 128,
   "metadata": {},
   "outputs": [
    {
     "data": {
      "text/plain": [
       "array([\"{'word': '비틀즈', 'start_idx': 24, 'end_idx': 26, 'type': 'ORG'}\",\n",
       "       \"{'word': '민주평화당', 'start_idx': 19, 'end_idx': 23, 'type': 'ORG'}\",\n",
       "       \"{'word': '광주FC', 'start_idx': 21, 'end_idx': 24, 'type': 'ORG'}\",\n",
       "       ...,\n",
       "       \"{'word': '완도군', 'start_idx': 0, 'end_idx': 2, 'type': 'ORG'}\",\n",
       "       \"{'word': 'JTBC', 'start_idx': 6, 'end_idx': 9, 'type': 'ORG'}\",\n",
       "       \"{'word': '화순군', 'start_idx': 0, 'end_idx': 2, 'type': 'ORG'}\"],\n",
       "      dtype=object)"
      ]
     },
     "execution_count": 128,
     "metadata": {},
     "output_type": "execute_result"
    }
   ],
   "source": [
    "tr['subject_entity'].values"
   ]
  },
  {
   "cell_type": "code",
   "execution_count": 129,
   "metadata": {},
   "outputs": [
    {
     "data": {
      "text/plain": [
       "array([\"{'word': '조지 해리슨', 'start_idx': 13, 'end_idx': 18, 'type': 'PER'}\",\n",
       "       \"{'word': '대안신당', 'start_idx': 14, 'end_idx': 17, 'type': 'ORG'}\",\n",
       "       \"{'word': '한국프로축구연맹', 'start_idx': 34, 'end_idx': 41, 'type': 'ORG'}\",\n",
       "       ...,\n",
       "       \"{'word': '신우철', 'start_idx': 7, 'end_idx': 9, 'type': 'PER'}\",\n",
       "       \"{'word': '중앙홀딩스', 'start_idx': 21, 'end_idx': 25, 'type': 'ORG'}\",\n",
       "       \"{'word': '구충곤', 'start_idx': 7, 'end_idx': 9, 'type': 'PER'}\"],\n",
       "      dtype=object)"
      ]
     },
     "execution_count": 129,
     "metadata": {},
     "output_type": "execute_result"
    }
   ],
   "source": [
    "tr['object_entity'].values"
   ]
  },
  {
   "cell_type": "code",
   "execution_count": 130,
   "metadata": {},
   "outputs": [
    {
     "data": {
      "text/plain": [
       "dict_items([('word', '비틀즈'), ('start_idx', 24), ('end_idx', 26), ('type', 'ORG')])"
      ]
     },
     "execution_count": 130,
     "metadata": {},
     "output_type": "execute_result"
    }
   ],
   "source": [
    "eval(tr['subject_entity'][0]).items()"
   ]
  },
  {
   "cell_type": "code",
   "execution_count": 131,
   "metadata": {},
   "outputs": [
    {
     "data": {
      "text/plain": [
       "'비틀즈'"
      ]
     },
     "execution_count": 131,
     "metadata": {},
     "output_type": "execute_result"
    }
   ],
   "source": [
    "eval(tr['subject_entity'][0])['word']"
   ]
  },
  {
   "cell_type": "code",
   "execution_count": 132,
   "metadata": {},
   "outputs": [
    {
     "data": {
      "text/plain": [
       "Index(['id', 'sentence', 'subject_entity', 'object_entity', 'label', 'source'], dtype='object')"
      ]
     },
     "execution_count": 132,
     "metadata": {},
     "output_type": "execute_result"
    }
   ],
   "source": [
    "tr.columns"
   ]
  },
  {
   "cell_type": "code",
   "execution_count": 133,
   "metadata": {},
   "outputs": [
    {
     "data": {
      "text/plain": [
       "'〈Something〉는 조지 해리슨이 쓰고 비틀즈가 1969년 앨범 《Abbey Road》에 담은 노래다.'"
      ]
     },
     "execution_count": 133,
     "metadata": {},
     "output_type": "execute_result"
    }
   ],
   "source": [
    "tr.iloc[0]['sentence']"
   ]
  },
  {
   "cell_type": "code",
   "execution_count": 134,
   "metadata": {},
   "outputs": [
    {
     "data": {
      "text/plain": [
       "id                                                                0\n",
       "sentence          〈Something〉는 조지 해리슨이 쓰고 비틀즈가 1969년 앨범 《Abbey R...\n",
       "subject_entity    {'word': '비틀즈', 'start_idx': 24, 'end_idx': 26...\n",
       "object_entity     {'word': '조지 해리슨', 'start_idx': 13, 'end_idx':...\n",
       "label                                                   no_relation\n",
       "source                                                    wikipedia\n",
       "Name: 0, dtype: object"
      ]
     },
     "execution_count": 134,
     "metadata": {},
     "output_type": "execute_result"
    }
   ],
   "source": [
    "tr.loc[0]"
   ]
  },
  {
   "cell_type": "code",
   "execution_count": 135,
   "metadata": {},
   "outputs": [],
   "source": [
    "def unzip_entity(dataset):\n",
    "    subject_word = []\n",
    "    subject_start_idx = []\n",
    "    subject_end_idx = []\n",
    "    subject_entity = []\n",
    "    object_word = []\n",
    "    object_start_idx = []\n",
    "    object_end_idx = []\n",
    "    object_entity = []\n",
    "    for i, j in zip(dataset['subject_entity'],dataset['object_entity']):\n",
    "        i = eval(i)\n",
    "        j = eval(j)\n",
    "        subject_word.append(i['word'])\n",
    "        subject_start_idx.append(int(i['start_idx']))\n",
    "        subject_end_idx.append(int(i['end_idx']))\n",
    "        subject_entity.append(i['type'])\n",
    "        object_word.append(j['word'])\n",
    "        object_start_idx.append(int(j['start_idx']))\n",
    "        object_end_idx.append(int(j['end_idx']))\n",
    "        object_entity.append(j['type'])\n",
    "    out_dataset = pd.DataFrame({'id':dataset['id'],'sentence':dataset['sentence'],\\\n",
    "        'subject_word':subject_word,'subject_start_idx':subject_start_idx,'subject_end_idx':subject_end_idx,'subject_entity':subject_entity,\\\n",
    "        'object_word':object_word,'object_start_idx':object_start_idx,'object_end_idx':object_end_idx,'object_entity':object_entity,\\\n",
    "        'label':dataset['label'],})\n",
    "    return out_dataset"
   ]
  },
  {
   "cell_type": "code",
   "execution_count": 153,
   "metadata": {},
   "outputs": [],
   "source": [
    "utr = unzip_entity(tr)"
   ]
  },
  {
   "cell_type": "code",
   "execution_count": 145,
   "metadata": {},
   "outputs": [
    {
     "data": {
      "text/plain": [
       "'〈Something〉는 조지 해리슨이 쓰고 비틀즈가 1969년 앨범 《Abbey Road》에 담은 노래다. no_relation'"
      ]
     },
     "execution_count": 145,
     "metadata": {},
     "output_type": "execute_result"
    }
   ],
   "source": [
    "' '.join(tr.loc[0,['sentence','label']].values)"
   ]
  },
  {
   "cell_type": "code",
   "execution_count": 146,
   "metadata": {},
   "outputs": [],
   "source": [
    "def make_sentence1(dataset,token1_column,token2_column):\n",
    "    concat_entity = []\n",
    "    for i in range(len(dataset)):\n",
    "        temp = ''\n",
    "        e01 = ' '.join(dataset.loc[i,token1_column].values)\n",
    "        e02 = ' '.join(dataset.loc[i,token2_column].values)\n",
    "        temp = e01 + '[SEP]' + e02\n",
    "        concat_entity.append(temp)\n",
    "    return concat_entity"
   ]
  },
  {
   "cell_type": "code",
   "execution_count": 147,
   "metadata": {},
   "outputs": [
    {
     "data": {
      "text/plain": [
       "['ORG 비틀즈[SEP]PER 조지 해리슨',\n",
       " 'ORG 민주평화당[SEP]ORG 대안신당',\n",
       " 'ORG 광주FC[SEP]ORG 한국프로축구연맹',\n",
       " 'ORG 아성다이소[SEP]PER 박정부',\n",
       " 'ORG 요미우리 자이언츠[SEP]DAT 1967',\n",
       " 'ORG 북대서양 조약 기구[SEP]ORG NATO',\n",
       " 'ORG AC 밀란[SEP]DAT 1989',\n",
       " 'PER 박용오[SEP]DAT 1937년 4월 29일',\n",
       " 'ORG 중화민국[SEP]LOC 타이베이',\n",
       " 'PER 안규백[SEP]ORG 더불어민주당']"
      ]
     },
     "execution_count": 147,
     "metadata": {},
     "output_type": "execute_result"
    }
   ],
   "source": [
    "make_sentence1(utr,['subject_entity','subject_word'],['object_entity','object_word'])[:10]"
   ]
  },
  {
   "cell_type": "code",
   "execution_count": null,
   "metadata": {},
   "outputs": [],
   "source": []
  },
  {
   "cell_type": "code",
   "execution_count": 148,
   "metadata": {},
   "outputs": [
    {
     "data": {
      "text/plain": [
       "Index(['id', 'sentence', 'subject_word', 'subject_start_idx',\n",
       "       'subject_end_idx', 'subject_entity', 'object_word', 'object_start_idx',\n",
       "       'object_end_idx', 'object_entity', 'label'],\n",
       "      dtype='object')"
      ]
     },
     "execution_count": 148,
     "metadata": {},
     "output_type": "execute_result"
    }
   ],
   "source": [
    "utr.columns"
   ]
  },
  {
   "cell_type": "code",
   "execution_count": 152,
   "metadata": {},
   "outputs": [],
   "source": [
    "def change_sentence(dataset,subject_word_list,obejct_word_list):\n",
    "    subject_word = []\n",
    "    subject_start_idx = []\n",
    "    subject_end_idx = []\n",
    "    subject_entity = []\n",
    "    object_word = []\n",
    "    object_start_idx = []\n",
    "    object_end_idx = []\n",
    "    object_entity = []\n",
    "    sentence = []\n",
    "    label = []\n",
    "    for (i, d), s, o in zip(dataset.iterrows(),subject_word_list,obejct_word_list):    \n",
    "        if d['subject_start_idx'] < d['object_start_idx']:\n",
    "            subject_start_idx.append(d['subject_start_idx'])\n",
    "            subject_end_idx.append(d['subject_end_idx'] + len(s) - len(d['subject_word']))\n",
    "            object_start_idx.append(d['object_start_idx'] + len(s) - len(d['subject_word']))\n",
    "            object_end_idx.append(d['object_end_idx'] + len(o)-len(d['subject_word'])+len(s) - len(d['object_word']))\n",
    "        else:\n",
    "            object_start_idx.append(d['object_start_idx'])\n",
    "            object_end_idx.append(d['object_end_idx'] + len(o) - len(d['object_word']))\n",
    "            subject_start_idx.append(d['subject_start_idx'] + len(o) - len(d['object_word']))\n",
    "            subject_end_idx.append(d['subject_end_idx'] + len(s)-len(d['subject_word'])+len(o) - len(d['object_word']))\n",
    "        temp = ''\n",
    "        temp = d['sentence'][:d['subject_start_idx']]+d['sentence'][d['subject_start_idx']:].replace(d['subject_word'],s,1)\n",
    "        sentence.append(temp[:d['object_start_idx']]+temp[d['object_start_idx']:].replace(d['object_word'],o,1))\n",
    "        subject_word.append(s)\n",
    "        object_word.append(o)\n",
    "        subject_entity= None\n",
    "        object_entity = None \n",
    "        label.append('no_relation')\n",
    "    out_dataset = pd.DataFrame({'id':dataset['id'],'sentence':sentence,\\\n",
    "        'subject_word':subject_word,'subject_start_idx':subject_start_idx,'subject_end_idx':subject_end_idx,'subject_entity':subject_entity,\\\n",
    "        'object_word':object_word,'object_start_idx':object_start_idx,'object_end_idx':object_end_idx,'object_entity':object_entity,\\\n",
    "        'label':label,})\n",
    "    return out_dataset\n",
    "        "
   ]
  },
  {
   "cell_type": "code",
   "execution_count": 154,
   "metadata": {},
   "outputs": [
    {
     "data": {
      "text/html": [
       "<div>\n",
       "<style scoped>\n",
       "    .dataframe tbody tr th:only-of-type {\n",
       "        vertical-align: middle;\n",
       "    }\n",
       "\n",
       "    .dataframe tbody tr th {\n",
       "        vertical-align: top;\n",
       "    }\n",
       "\n",
       "    .dataframe thead th {\n",
       "        text-align: right;\n",
       "    }\n",
       "</style>\n",
       "<table border=\"1\" class=\"dataframe\">\n",
       "  <thead>\n",
       "    <tr style=\"text-align: right;\">\n",
       "      <th></th>\n",
       "      <th>id</th>\n",
       "      <th>sentence</th>\n",
       "      <th>subject_word</th>\n",
       "      <th>subject_start_idx</th>\n",
       "      <th>subject_end_idx</th>\n",
       "      <th>subject_entity</th>\n",
       "      <th>object_word</th>\n",
       "      <th>object_start_idx</th>\n",
       "      <th>object_end_idx</th>\n",
       "      <th>object_entity</th>\n",
       "      <th>label</th>\n",
       "    </tr>\n",
       "  </thead>\n",
       "  <tbody>\n",
       "    <tr>\n",
       "      <th>0</th>\n",
       "      <td>0</td>\n",
       "      <td>〈Something〉는 조지 해리슨이 쓰고 비틀즈가 1969년 앨범 《Abbey R...</td>\n",
       "      <td>비틀즈</td>\n",
       "      <td>24</td>\n",
       "      <td>26</td>\n",
       "      <td>ORG</td>\n",
       "      <td>조지 해리슨</td>\n",
       "      <td>13</td>\n",
       "      <td>18</td>\n",
       "      <td>PER</td>\n",
       "      <td>no_relation</td>\n",
       "    </tr>\n",
       "    <tr>\n",
       "      <th>1</th>\n",
       "      <td>1</td>\n",
       "      <td>호남이 기반인 바른미래당·대안신당·민주평화당이 우여곡절 끝에 합당해 민생당(가칭)으...</td>\n",
       "      <td>민주평화당</td>\n",
       "      <td>19</td>\n",
       "      <td>23</td>\n",
       "      <td>ORG</td>\n",
       "      <td>대안신당</td>\n",
       "      <td>14</td>\n",
       "      <td>17</td>\n",
       "      <td>ORG</td>\n",
       "      <td>no_relation</td>\n",
       "    </tr>\n",
       "    <tr>\n",
       "      <th>2</th>\n",
       "      <td>2</td>\n",
       "      <td>K리그2에서 성적 1위를 달리고 있는 광주FC는 지난 26일 한국프로축구연맹으로부터...</td>\n",
       "      <td>광주FC</td>\n",
       "      <td>21</td>\n",
       "      <td>24</td>\n",
       "      <td>ORG</td>\n",
       "      <td>한국프로축구연맹</td>\n",
       "      <td>34</td>\n",
       "      <td>41</td>\n",
       "      <td>ORG</td>\n",
       "      <td>org:member_of</td>\n",
       "    </tr>\n",
       "    <tr>\n",
       "      <th>3</th>\n",
       "      <td>3</td>\n",
       "      <td>균일가 생활용품점 (주)아성다이소(대표 박정부)는 코로나19 바이러스로 어려움을 겪...</td>\n",
       "      <td>아성다이소</td>\n",
       "      <td>13</td>\n",
       "      <td>17</td>\n",
       "      <td>ORG</td>\n",
       "      <td>박정부</td>\n",
       "      <td>22</td>\n",
       "      <td>24</td>\n",
       "      <td>PER</td>\n",
       "      <td>org:top_members/employees</td>\n",
       "    </tr>\n",
       "    <tr>\n",
       "      <th>4</th>\n",
       "      <td>4</td>\n",
       "      <td>1967년 프로 야구 드래프트 1순위로 요미우리 자이언츠에게 입단하면서 등번호는 8...</td>\n",
       "      <td>요미우리 자이언츠</td>\n",
       "      <td>22</td>\n",
       "      <td>30</td>\n",
       "      <td>ORG</td>\n",
       "      <td>1967</td>\n",
       "      <td>0</td>\n",
       "      <td>3</td>\n",
       "      <td>DAT</td>\n",
       "      <td>no_relation</td>\n",
       "    </tr>\n",
       "  </tbody>\n",
       "</table>\n",
       "</div>"
      ],
      "text/plain": [
       "   id                                           sentence subject_word  \\\n",
       "0   0  〈Something〉는 조지 해리슨이 쓰고 비틀즈가 1969년 앨범 《Abbey R...          비틀즈   \n",
       "1   1  호남이 기반인 바른미래당·대안신당·민주평화당이 우여곡절 끝에 합당해 민생당(가칭)으...        민주평화당   \n",
       "2   2  K리그2에서 성적 1위를 달리고 있는 광주FC는 지난 26일 한국프로축구연맹으로부터...         광주FC   \n",
       "3   3  균일가 생활용품점 (주)아성다이소(대표 박정부)는 코로나19 바이러스로 어려움을 겪...        아성다이소   \n",
       "4   4  1967년 프로 야구 드래프트 1순위로 요미우리 자이언츠에게 입단하면서 등번호는 8...    요미우리 자이언츠   \n",
       "\n",
       "   subject_start_idx  subject_end_idx subject_entity object_word  \\\n",
       "0                 24               26            ORG      조지 해리슨   \n",
       "1                 19               23            ORG        대안신당   \n",
       "2                 21               24            ORG    한국프로축구연맹   \n",
       "3                 13               17            ORG         박정부   \n",
       "4                 22               30            ORG        1967   \n",
       "\n",
       "   object_start_idx  object_end_idx object_entity                      label  \n",
       "0                13              18           PER                no_relation  \n",
       "1                14              17           ORG                no_relation  \n",
       "2                34              41           ORG              org:member_of  \n",
       "3                22              24           PER  org:top_members/employees  \n",
       "4                 0               3           DAT                no_relation  "
      ]
     },
     "execution_count": 154,
     "metadata": {},
     "output_type": "execute_result"
    }
   ],
   "source": [
    "utr.head(5)"
   ]
  },
  {
   "cell_type": "code",
   "execution_count": 155,
   "metadata": {},
   "outputs": [
    {
     "data": {
      "text/html": [
       "<div>\n",
       "<style scoped>\n",
       "    .dataframe tbody tr th:only-of-type {\n",
       "        vertical-align: middle;\n",
       "    }\n",
       "\n",
       "    .dataframe tbody tr th {\n",
       "        vertical-align: top;\n",
       "    }\n",
       "\n",
       "    .dataframe thead th {\n",
       "        text-align: right;\n",
       "    }\n",
       "</style>\n",
       "<table border=\"1\" class=\"dataframe\">\n",
       "  <thead>\n",
       "    <tr style=\"text-align: right;\">\n",
       "      <th></th>\n",
       "      <th>id</th>\n",
       "      <th>sentence</th>\n",
       "      <th>subject_word</th>\n",
       "      <th>subject_start_idx</th>\n",
       "      <th>subject_end_idx</th>\n",
       "      <th>subject_entity</th>\n",
       "      <th>object_word</th>\n",
       "      <th>object_start_idx</th>\n",
       "      <th>object_end_idx</th>\n",
       "      <th>object_entity</th>\n",
       "      <th>label</th>\n",
       "    </tr>\n",
       "  </thead>\n",
       "  <tbody>\n",
       "    <tr>\n",
       "      <th>0</th>\n",
       "      <td>0</td>\n",
       "      <td>〈Something〉는 비틀즈이 쓰고 조지 해리슨가 1969년 앨범 《Abbey R...</td>\n",
       "      <td>조지 해리슨</td>\n",
       "      <td>21</td>\n",
       "      <td>26</td>\n",
       "      <td>None</td>\n",
       "      <td>비틀즈</td>\n",
       "      <td>13</td>\n",
       "      <td>15</td>\n",
       "      <td>None</td>\n",
       "      <td>no_relation</td>\n",
       "    </tr>\n",
       "    <tr>\n",
       "      <th>1</th>\n",
       "      <td>1</td>\n",
       "      <td>호남이 기반인 바른미래당·민주평화당·대안신당이 우여곡절 끝에 합당해 민생당(가칭)으...</td>\n",
       "      <td>대안신당</td>\n",
       "      <td>20</td>\n",
       "      <td>23</td>\n",
       "      <td>None</td>\n",
       "      <td>민주평화당</td>\n",
       "      <td>14</td>\n",
       "      <td>18</td>\n",
       "      <td>None</td>\n",
       "      <td>no_relation</td>\n",
       "    </tr>\n",
       "    <tr>\n",
       "      <th>2</th>\n",
       "      <td>2</td>\n",
       "      <td>K리그2에서 성적 1위를 달리고 있는 한국프로축구연맹는 지난 26일 광주FC으로부터...</td>\n",
       "      <td>한국프로축구연맹</td>\n",
       "      <td>21</td>\n",
       "      <td>28</td>\n",
       "      <td>None</td>\n",
       "      <td>광주FC</td>\n",
       "      <td>38</td>\n",
       "      <td>41</td>\n",
       "      <td>None</td>\n",
       "      <td>no_relation</td>\n",
       "    </tr>\n",
       "    <tr>\n",
       "      <th>3</th>\n",
       "      <td>3</td>\n",
       "      <td>균일가 생활용품점 (주)박정부(대표 박정부)는 코로나19 바이러스로 어려움을 겪고 ...</td>\n",
       "      <td>박정부</td>\n",
       "      <td>13</td>\n",
       "      <td>15</td>\n",
       "      <td>None</td>\n",
       "      <td>아성다이소</td>\n",
       "      <td>20</td>\n",
       "      <td>24</td>\n",
       "      <td>None</td>\n",
       "      <td>no_relation</td>\n",
       "    </tr>\n",
       "    <tr>\n",
       "      <th>4</th>\n",
       "      <td>4</td>\n",
       "      <td>요미우리 자이언츠년 프로 야구 드래프트 1순위로 1967에게 입단하면서 등번호는 8...</td>\n",
       "      <td>1967</td>\n",
       "      <td>27</td>\n",
       "      <td>30</td>\n",
       "      <td>None</td>\n",
       "      <td>요미우리 자이언츠</td>\n",
       "      <td>0</td>\n",
       "      <td>8</td>\n",
       "      <td>None</td>\n",
       "      <td>no_relation</td>\n",
       "    </tr>\n",
       "  </tbody>\n",
       "</table>\n",
       "</div>"
      ],
      "text/plain": [
       "   id                                           sentence subject_word  \\\n",
       "0   0  〈Something〉는 비틀즈이 쓰고 조지 해리슨가 1969년 앨범 《Abbey R...       조지 해리슨   \n",
       "1   1  호남이 기반인 바른미래당·민주평화당·대안신당이 우여곡절 끝에 합당해 민생당(가칭)으...         대안신당   \n",
       "2   2  K리그2에서 성적 1위를 달리고 있는 한국프로축구연맹는 지난 26일 광주FC으로부터...     한국프로축구연맹   \n",
       "3   3  균일가 생활용품점 (주)박정부(대표 박정부)는 코로나19 바이러스로 어려움을 겪고 ...          박정부   \n",
       "4   4  요미우리 자이언츠년 프로 야구 드래프트 1순위로 1967에게 입단하면서 등번호는 8...         1967   \n",
       "\n",
       "   subject_start_idx  subject_end_idx subject_entity object_word  \\\n",
       "0                 21               26           None         비틀즈   \n",
       "1                 20               23           None       민주평화당   \n",
       "2                 21               28           None        광주FC   \n",
       "3                 13               15           None       아성다이소   \n",
       "4                 27               30           None   요미우리 자이언츠   \n",
       "\n",
       "   object_start_idx  object_end_idx object_entity        label  \n",
       "0                13              15          None  no_relation  \n",
       "1                14              18          None  no_relation  \n",
       "2                38              41          None  no_relation  \n",
       "3                20              24          None  no_relation  \n",
       "4                 0               8          None  no_relation  "
      ]
     },
     "execution_count": 155,
     "metadata": {},
     "output_type": "execute_result"
    }
   ],
   "source": [
    "change_sentence(utr, utr['object_word'], utr['subject_word']).head(5)"
   ]
  },
  {
   "cell_type": "code",
   "execution_count": null,
   "metadata": {},
   "outputs": [],
   "source": []
  }
 ],
 "metadata": {
  "kernelspec": {
   "display_name": "Python 3 (ipykernel)",
   "language": "python",
   "name": "python3"
  },
  "language_info": {
   "codemirror_mode": {
    "name": "ipython",
    "version": 3
   },
   "file_extension": ".py",
   "mimetype": "text/x-python",
   "name": "python",
   "nbconvert_exporter": "python",
   "pygments_lexer": "ipython3",
   "version": "3.8.5"
  },
  "vscode": {
   "interpreter": {
    "hash": "a8965fe7da10772174bb525f1e3788fcbcc5b72184db705faa97117e3ffb5496"
   }
  }
 },
 "nbformat": 4,
 "nbformat_minor": 4
}
