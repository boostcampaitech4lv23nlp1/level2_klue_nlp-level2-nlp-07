{
 "cells": [
  {
   "cell_type": "code",
   "execution_count": 1,
   "id": "a48b95e2-7cc9-4ff2-a417-f06a217bdb4f",
   "metadata": {},
   "outputs": [],
   "source": [
    "import pandas as pd\n",
    "df = pd.read_csv('/opt/ml/dataset/train/train_drop_duplicate.csv')"
   ]
  },
  {
   "cell_type": "code",
   "execution_count": 3,
   "id": "7ffa45df-982a-4aac-8057-f3163a2bcdb8",
   "metadata": {},
   "outputs": [],
   "source": [
    "del df['Unnamed: 0']"
   ]
  },
  {
   "cell_type": "code",
   "execution_count": 8,
   "id": "9f7dfd94-8d4a-4963-a98c-eae06af3cd51",
   "metadata": {},
   "outputs": [],
   "source": [
    "sub = df['subject_entity'].apply(lambda x : eval(x)['type']).unique().tolist()"
   ]
  },
  {
   "cell_type": "code",
   "execution_count": 9,
   "id": "a256b6f7-03e5-4b6e-952a-13af71536605",
   "metadata": {},
   "outputs": [
    {
     "data": {
      "text/plain": [
       "['ORG', 'PER']"
      ]
     },
     "execution_count": 9,
     "metadata": {},
     "output_type": "execute_result"
    }
   ],
   "source": [
    "sub"
   ]
  },
  {
   "cell_type": "code",
   "execution_count": 10,
   "id": "becb711a-f3ea-4623-ae37-af0fa010a8b1",
   "metadata": {},
   "outputs": [
    {
     "data": {
      "text/plain": [
       "['PER', 'ORG', 'DAT', 'LOC', 'POH', 'NOH']"
      ]
     },
     "execution_count": 10,
     "metadata": {},
     "output_type": "execute_result"
    }
   ],
   "source": [
    "obj = df['object_entity'].apply(lambda x : eval(x)['type']).unique().tolist()\n",
    "obj"
   ]
  },
  {
   "cell_type": "code",
   "execution_count": 11,
   "id": "0bdb81a3-a5a1-44d5-abbf-c5a6a068479b",
   "metadata": {},
   "outputs": [
    {
     "data": {
      "text/plain": [
       "{'PER': '사람',\n",
       " 'ORG': '기관',\n",
       " 'DAT': '날짜',\n",
       " 'LOC': '장소',\n",
       " 'POH': '고유명사',\n",
       " 'NOH': '숫자'}"
      ]
     },
     "execution_count": 11,
     "metadata": {},
     "output_type": "execute_result"
    }
   ],
   "source": [
    "a= ['PER', 'ORG', 'DAT', 'LOC', 'POH', 'NOH']\n",
    "b = ['사람', '기관',  '날짜', '장소','고유명사','숫자']\n",
    "x = {i : j for i,j in zip(a,b)}\n",
    "x"
   ]
  },
  {
   "cell_type": "code",
   "execution_count": null,
   "id": "edf89602-b7a1-498e-b41c-a666bcff9446",
   "metadata": {},
   "outputs": [],
   "source": []
  }
 ],
 "metadata": {
  "kernelspec": {
   "display_name": "Python 3 (ipykernel)",
   "language": "python",
   "name": "python3"
  },
  "language_info": {
   "codemirror_mode": {
    "name": "ipython",
    "version": 3
   },
   "file_extension": ".py",
   "mimetype": "text/x-python",
   "name": "python",
   "nbconvert_exporter": "python",
   "pygments_lexer": "ipython3",
   "version": "3.8.5"
  }
 },
 "nbformat": 4,
 "nbformat_minor": 5
}
