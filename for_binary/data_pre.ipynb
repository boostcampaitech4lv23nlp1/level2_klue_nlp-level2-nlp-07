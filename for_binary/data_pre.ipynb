{
 "cells": [
  {
   "cell_type": "code",
   "execution_count": 1,
   "id": "e6aececd-4913-47a5-b5cf-53de977caaec",
   "metadata": {},
   "outputs": [
    {
     "data": {
      "text/plain": [
       "Index(['Unnamed: 0', 'index', 'sentence', 'subject_entity', 'object_entity',\n",
       "       'label', 'source'],\n",
       "      dtype='object')"
      ]
     },
     "execution_count": 1,
     "metadata": {},
     "output_type": "execute_result"
    }
   ],
   "source": [
    "import pandas as pd\n",
    "df = pd.read_csv('/opt/ml/dataset/train/train_drop_duplicate.csv')\n",
    "df.columns"
   ]
  },
  {
   "cell_type": "code",
   "execution_count": 2,
   "id": "41b794ae-a266-4020-8270-e13ade3dccc1",
   "metadata": {},
   "outputs": [],
   "source": [
    "del df['Unnamed: 0']"
   ]
  },
  {
   "cell_type": "code",
   "execution_count": 3,
   "id": "ec5e1f41-f9db-45a5-83a7-1cc4e30f2f0e",
   "metadata": {},
   "outputs": [
    {
     "data": {
      "text/html": [
       "<div>\n",
       "<style scoped>\n",
       "    .dataframe tbody tr th:only-of-type {\n",
       "        vertical-align: middle;\n",
       "    }\n",
       "\n",
       "    .dataframe tbody tr th {\n",
       "        vertical-align: top;\n",
       "    }\n",
       "\n",
       "    .dataframe thead th {\n",
       "        text-align: right;\n",
       "    }\n",
       "</style>\n",
       "<table border=\"1\" class=\"dataframe\">\n",
       "  <thead>\n",
       "    <tr style=\"text-align: right;\">\n",
       "      <th></th>\n",
       "      <th>index</th>\n",
       "      <th>sentence</th>\n",
       "      <th>subject_entity</th>\n",
       "      <th>object_entity</th>\n",
       "      <th>label</th>\n",
       "      <th>source</th>\n",
       "      <th>sub_type</th>\n",
       "    </tr>\n",
       "  </thead>\n",
       "  <tbody>\n",
       "    <tr>\n",
       "      <th>0</th>\n",
       "      <td>0</td>\n",
       "      <td>〈Something〉는 조지 해리슨이 쓰고 비틀즈가 1969년 앨범 《Abbey R...</td>\n",
       "      <td>{'word': '비틀즈', 'start_idx': 24, 'end_idx': 26...</td>\n",
       "      <td>{'word': '조지 해리슨', 'start_idx': 13, 'end_idx':...</td>\n",
       "      <td>no_relation</td>\n",
       "      <td>wikipedia</td>\n",
       "      <td>ORG</td>\n",
       "    </tr>\n",
       "    <tr>\n",
       "      <th>1</th>\n",
       "      <td>1</td>\n",
       "      <td>호남이 기반인 바른미래당·대안신당·민주평화당이 우여곡절 끝에 합당해 민생당(가칭)으...</td>\n",
       "      <td>{'word': '민주평화당', 'start_idx': 19, 'end_idx': ...</td>\n",
       "      <td>{'word': '대안신당', 'start_idx': 14, 'end_idx': 1...</td>\n",
       "      <td>no_relation</td>\n",
       "      <td>wikitree</td>\n",
       "      <td>ORG</td>\n",
       "    </tr>\n",
       "    <tr>\n",
       "      <th>2</th>\n",
       "      <td>2</td>\n",
       "      <td>K리그2에서 성적 1위를 달리고 있는 광주FC는 지난 26일 한국프로축구연맹으로부터...</td>\n",
       "      <td>{'word': '광주FC', 'start_idx': 21, 'end_idx': 2...</td>\n",
       "      <td>{'word': '한국프로축구연맹', 'start_idx': 34, 'end_idx...</td>\n",
       "      <td>org:member_of</td>\n",
       "      <td>wikitree</td>\n",
       "      <td>ORG</td>\n",
       "    </tr>\n",
       "    <tr>\n",
       "      <th>3</th>\n",
       "      <td>3</td>\n",
       "      <td>균일가 생활용품점 (주)아성다이소(대표 박정부)는 코로나19 바이러스로 어려움을 겪...</td>\n",
       "      <td>{'word': '아성다이소', 'start_idx': 13, 'end_idx': ...</td>\n",
       "      <td>{'word': '박정부', 'start_idx': 22, 'end_idx': 24...</td>\n",
       "      <td>org:top_members/employees</td>\n",
       "      <td>wikitree</td>\n",
       "      <td>ORG</td>\n",
       "    </tr>\n",
       "    <tr>\n",
       "      <th>4</th>\n",
       "      <td>4</td>\n",
       "      <td>1967년 프로 야구 드래프트 1순위로 요미우리 자이언츠에게 입단하면서 등번호는 8...</td>\n",
       "      <td>{'word': '요미우리 자이언츠', 'start_idx': 22, 'end_id...</td>\n",
       "      <td>{'word': '1967', 'start_idx': 0, 'end_idx': 3,...</td>\n",
       "      <td>no_relation</td>\n",
       "      <td>wikipedia</td>\n",
       "      <td>ORG</td>\n",
       "    </tr>\n",
       "    <tr>\n",
       "      <th>...</th>\n",
       "      <td>...</td>\n",
       "      <td>...</td>\n",
       "      <td>...</td>\n",
       "      <td>...</td>\n",
       "      <td>...</td>\n",
       "      <td>...</td>\n",
       "      <td>...</td>\n",
       "    </tr>\n",
       "    <tr>\n",
       "      <th>32423</th>\n",
       "      <td>32465</td>\n",
       "      <td>한국당은 7일 오전 9시부터 오후 5시까지 진행된 원내대표 및 정책위의장 후보자 등...</td>\n",
       "      <td>{'word': '유기준', 'start_idx': 93, 'end_idx': 95...</td>\n",
       "      <td>{'word': '부산 서구·동구', 'start_idx': 100, 'end_id...</td>\n",
       "      <td>per:employee_of</td>\n",
       "      <td>wikitree</td>\n",
       "      <td>PER</td>\n",
       "    </tr>\n",
       "    <tr>\n",
       "      <th>32424</th>\n",
       "      <td>32466</td>\n",
       "      <td>법포는 다시 최시형, 서병학, 손병희 직계인 북접과 다시 서장옥, 전봉준, 김개남을...</td>\n",
       "      <td>{'word': '최시형', 'start_idx': 7, 'end_idx': 9, ...</td>\n",
       "      <td>{'word': '손병희', 'start_idx': 17, 'end_idx': 19...</td>\n",
       "      <td>per:colleagues</td>\n",
       "      <td>wikipedia</td>\n",
       "      <td>PER</td>\n",
       "    </tr>\n",
       "    <tr>\n",
       "      <th>32425</th>\n",
       "      <td>32467</td>\n",
       "      <td>완도군(군수 신우철)이 국토교통부에서 실시한 '2019 교통문화지수 실태조사'에서 ...</td>\n",
       "      <td>{'word': '완도군', 'start_idx': 0, 'end_idx': 2, ...</td>\n",
       "      <td>{'word': '신우철', 'start_idx': 7, 'end_idx': 9, ...</td>\n",
       "      <td>org:top_members/employees</td>\n",
       "      <td>wikitree</td>\n",
       "      <td>ORG</td>\n",
       "    </tr>\n",
       "    <tr>\n",
       "      <th>32426</th>\n",
       "      <td>32468</td>\n",
       "      <td>중앙일보, JTBC 회장을 지낸 이후 중앙홀딩스 회장, 재단법인 한반도평화만들기 이...</td>\n",
       "      <td>{'word': 'JTBC', 'start_idx': 6, 'end_idx': 9,...</td>\n",
       "      <td>{'word': '중앙홀딩스', 'start_idx': 21, 'end_idx': ...</td>\n",
       "      <td>no_relation</td>\n",
       "      <td>wikipedia</td>\n",
       "      <td>ORG</td>\n",
       "    </tr>\n",
       "    <tr>\n",
       "      <th>32427</th>\n",
       "      <td>32469</td>\n",
       "      <td>화순군(군수 구충곤)은 17일 동면의 이장 20여 명이 코로나 19 예방을 위해 버...</td>\n",
       "      <td>{'word': '화순군', 'start_idx': 0, 'end_idx': 2, ...</td>\n",
       "      <td>{'word': '구충곤', 'start_idx': 7, 'end_idx': 9, ...</td>\n",
       "      <td>org:top_members/employees</td>\n",
       "      <td>wikitree</td>\n",
       "      <td>ORG</td>\n",
       "    </tr>\n",
       "  </tbody>\n",
       "</table>\n",
       "<p>32428 rows × 7 columns</p>\n",
       "</div>"
      ],
      "text/plain": [
       "       index                                           sentence  \\\n",
       "0          0  〈Something〉는 조지 해리슨이 쓰고 비틀즈가 1969년 앨범 《Abbey R...   \n",
       "1          1  호남이 기반인 바른미래당·대안신당·민주평화당이 우여곡절 끝에 합당해 민생당(가칭)으...   \n",
       "2          2  K리그2에서 성적 1위를 달리고 있는 광주FC는 지난 26일 한국프로축구연맹으로부터...   \n",
       "3          3  균일가 생활용품점 (주)아성다이소(대표 박정부)는 코로나19 바이러스로 어려움을 겪...   \n",
       "4          4  1967년 프로 야구 드래프트 1순위로 요미우리 자이언츠에게 입단하면서 등번호는 8...   \n",
       "...      ...                                                ...   \n",
       "32423  32465  한국당은 7일 오전 9시부터 오후 5시까지 진행된 원내대표 및 정책위의장 후보자 등...   \n",
       "32424  32466  법포는 다시 최시형, 서병학, 손병희 직계인 북접과 다시 서장옥, 전봉준, 김개남을...   \n",
       "32425  32467  완도군(군수 신우철)이 국토교통부에서 실시한 '2019 교통문화지수 실태조사'에서 ...   \n",
       "32426  32468  중앙일보, JTBC 회장을 지낸 이후 중앙홀딩스 회장, 재단법인 한반도평화만들기 이...   \n",
       "32427  32469  화순군(군수 구충곤)은 17일 동면의 이장 20여 명이 코로나 19 예방을 위해 버...   \n",
       "\n",
       "                                          subject_entity  \\\n",
       "0      {'word': '비틀즈', 'start_idx': 24, 'end_idx': 26...   \n",
       "1      {'word': '민주평화당', 'start_idx': 19, 'end_idx': ...   \n",
       "2      {'word': '광주FC', 'start_idx': 21, 'end_idx': 2...   \n",
       "3      {'word': '아성다이소', 'start_idx': 13, 'end_idx': ...   \n",
       "4      {'word': '요미우리 자이언츠', 'start_idx': 22, 'end_id...   \n",
       "...                                                  ...   \n",
       "32423  {'word': '유기준', 'start_idx': 93, 'end_idx': 95...   \n",
       "32424  {'word': '최시형', 'start_idx': 7, 'end_idx': 9, ...   \n",
       "32425  {'word': '완도군', 'start_idx': 0, 'end_idx': 2, ...   \n",
       "32426  {'word': 'JTBC', 'start_idx': 6, 'end_idx': 9,...   \n",
       "32427  {'word': '화순군', 'start_idx': 0, 'end_idx': 2, ...   \n",
       "\n",
       "                                           object_entity  \\\n",
       "0      {'word': '조지 해리슨', 'start_idx': 13, 'end_idx':...   \n",
       "1      {'word': '대안신당', 'start_idx': 14, 'end_idx': 1...   \n",
       "2      {'word': '한국프로축구연맹', 'start_idx': 34, 'end_idx...   \n",
       "3      {'word': '박정부', 'start_idx': 22, 'end_idx': 24...   \n",
       "4      {'word': '1967', 'start_idx': 0, 'end_idx': 3,...   \n",
       "...                                                  ...   \n",
       "32423  {'word': '부산 서구·동구', 'start_idx': 100, 'end_id...   \n",
       "32424  {'word': '손병희', 'start_idx': 17, 'end_idx': 19...   \n",
       "32425  {'word': '신우철', 'start_idx': 7, 'end_idx': 9, ...   \n",
       "32426  {'word': '중앙홀딩스', 'start_idx': 21, 'end_idx': ...   \n",
       "32427  {'word': '구충곤', 'start_idx': 7, 'end_idx': 9, ...   \n",
       "\n",
       "                           label     source sub_type  \n",
       "0                    no_relation  wikipedia      ORG  \n",
       "1                    no_relation   wikitree      ORG  \n",
       "2                  org:member_of   wikitree      ORG  \n",
       "3      org:top_members/employees   wikitree      ORG  \n",
       "4                    no_relation  wikipedia      ORG  \n",
       "...                          ...        ...      ...  \n",
       "32423            per:employee_of   wikitree      PER  \n",
       "32424             per:colleagues  wikipedia      PER  \n",
       "32425  org:top_members/employees   wikitree      ORG  \n",
       "32426                no_relation  wikipedia      ORG  \n",
       "32427  org:top_members/employees   wikitree      ORG  \n",
       "\n",
       "[32428 rows x 7 columns]"
      ]
     },
     "execution_count": 3,
     "metadata": {},
     "output_type": "execute_result"
    }
   ],
   "source": [
    "df['sub_type'] = df['subject_entity'].apply(lambda x : eval(x)['type'])\n",
    "df"
   ]
  },
  {
   "cell_type": "code",
   "execution_count": 4,
   "id": "71896b7e-1dcc-4661-938b-cad7265ac344",
   "metadata": {},
   "outputs": [],
   "source": [
    "# df[(df['sub_type']=='ORG')&(df['label']=='no_relation')] #  5396개\n",
    "org_df =df[(df['sub_type']=='ORG')&(df['label']!='no_relation')]   # 10269개"
   ]
  },
  {
   "cell_type": "code",
   "execution_count": 5,
   "id": "917c7020-b7b5-4621-af38-c9d53904d4c2",
   "metadata": {},
   "outputs": [],
   "source": [
    "# df[(df['sub_type']=='PER')&(df['label']=='no_relation')] #  4121개\n",
    "per_df = df[(df['sub_type']=='PER')&(df['label']!='no_relation')]   # 12642개 12638개"
   ]
  },
  {
   "cell_type": "code",
   "execution_count": 6,
   "id": "3ba83db4-8182-4922-be0a-7b2a18586ca1",
   "metadata": {},
   "outputs": [],
   "source": [
    "org_df.reset_index(inplace = True,drop=True)\n",
    "per_df.reset_index(inplace = True,drop=True)"
   ]
  },
  {
   "cell_type": "code",
   "execution_count": 7,
   "id": "26c46055-51bf-47a1-8444-bf279e795882",
   "metadata": {},
   "outputs": [
    {
     "data": {
      "text/plain": [
       "array(['org:member_of', 'org:top_members/employees',\n",
       "       'org:alternate_names', 'org:place_of_headquarters', 'org:members',\n",
       "       'org:founded_by', 'org:political/religious_affiliation',\n",
       "       'org:founded', 'org:number_of_employees/members', 'org:dissolved',\n",
       "       'org:product'], dtype=object)"
      ]
     },
     "execution_count": 7,
     "metadata": {},
     "output_type": "execute_result"
    }
   ],
   "source": [
    "# org_df.to_csv('/opt/ml/code/for_binary/data/org_train.csv',index =False)\n",
    "# per_df.to_csv('/opt/ml/code/for_binary/data/per_train.csv',index =False)\n",
    "org_df['label'].unique()"
   ]
  },
  {
   "cell_type": "code",
   "execution_count": 9,
   "id": "a545b013-16ab-4ad4-a752-fea1cf405f38",
   "metadata": {},
   "outputs": [],
   "source": [
    "per_label_list = ['per:title', \n",
    "   'per:employee_of', 'per:product', 'per:children',\n",
    "   'per:place_of_residence', 'per:alternate_names',\n",
    "   'per:other_family', 'per:colleagues', 'per:origin', 'per:siblings',\n",
    "   'per:spouse', 'per:parents',\n",
    "   'per:schools_attended', 'per:date_of_death', 'per:date_of_birth',\n",
    "   'per:place_of_birth', 'per:place_of_death', 'per:religion']\n",
    "per_dict_n_to_l = {v :i for i,v in enumerate(per_label_list)}\n"
   ]
  },
  {
   "cell_type": "code",
   "execution_count": 11,
   "id": "32d5d6b3-6a3a-4411-9990-ba74dba66731",
   "metadata": {},
   "outputs": [
    {
     "data": {
      "text/plain": [
       "{'per:title': 0,\n",
       " 'per:employee_of': 1,\n",
       " 'per:product': 2,\n",
       " 'per:children': 3,\n",
       " 'per:place_of_residence': 4,\n",
       " 'per:alternate_names': 5,\n",
       " 'per:other_family': 6,\n",
       " 'per:colleagues': 7,\n",
       " 'per:origin': 8,\n",
       " 'per:siblings': 9,\n",
       " 'per:spouse': 10,\n",
       " 'per:parents': 11,\n",
       " 'per:schools_attended': 12,\n",
       " 'per:date_of_death': 13,\n",
       " 'per:date_of_birth': 14,\n",
       " 'per:place_of_birth': 15,\n",
       " 'per:place_of_death': 16,\n",
       " 'per:religion': 17}"
      ]
     },
     "execution_count": 11,
     "metadata": {},
     "output_type": "execute_result"
    }
   ],
   "source": [
    "per_dict_n_to_l = {v :i for i,v in enumerate(per_label_list)}\n",
    "per_dict_n_to_l"
   ]
  },
  {
   "cell_type": "code",
   "execution_count": 12,
   "id": "de46b9e6-e8dd-4fd6-bce0-64e7784969ed",
   "metadata": {},
   "outputs": [
    {
     "data": {
      "text/plain": [
       "11"
      ]
     },
     "execution_count": 12,
     "metadata": {},
     "output_type": "execute_result"
    }
   ],
   "source": [
    "org_label_list = ['org:top_members/employees', 'org:members',\n",
    "   'org:product', 'org:alternate_names','org:place_of_headquarters',\n",
    "   'org:number_of_employees/members','org:founded', 'org:political/religious_affiliation',\n",
    "   'org:member_of', 'org:dissolved','org:founded_by']\n",
    "org_dict_n_to_l = {v :i for i,v in enumerate(org_label_list)}\n"
   ]
  },
  {
   "cell_type": "code",
   "execution_count": 13,
   "id": "f1daf8fb-1212-4258-a2cd-2e1931f4d891",
   "metadata": {},
   "outputs": [
    {
     "data": {
      "text/plain": [
       "{'org:top_members/employees': 0,\n",
       " 'org:members': 1,\n",
       " 'org:product': 2,\n",
       " 'org:alternate_names': 3,\n",
       " 'org:place_of_headquarters': 4,\n",
       " 'org:number_of_employees/members': 5,\n",
       " 'org:founded': 6,\n",
       " 'org:political/religious_affiliation': 7,\n",
       " 'org:member_of': 8,\n",
       " 'org:dissolved': 9,\n",
       " 'org:founded_by': 10}"
      ]
     },
     "execution_count": 13,
     "metadata": {},
     "output_type": "execute_result"
    }
   ],
   "source": [
    "org_dict_n_to_l = {v :i for i,v in enumerate(org_label_list)}\n",
    "org_dict_n_to_l"
   ]
  },
  {
   "cell_type": "code",
   "execution_count": 14,
   "id": "a9cb33df-60c5-4d95-9fa2-aec370d67c27",
   "metadata": {},
   "outputs": [],
   "source": [
    "import pandas as pd\n",
    "\n",
    "df = pd.read_csv('/opt/ml/code/for_binary/data/per_train.csv')"
   ]
  },
  {
   "cell_type": "code",
   "execution_count": 17,
   "id": "e7deb854-696b-4d59-a3b8-5e3c7b67d8b8",
   "metadata": {},
   "outputs": [
    {
     "data": {
      "text/plain": [
       "array(['per:date_of_birth', 'per:employee_of', 'per:origin', 'per:title',\n",
       "       'per:schools_attended', 'per:colleagues', 'per:alternate_names',\n",
       "       'per:spouse', 'per:children', 'per:place_of_birth', 'per:parents',\n",
       "       'per:religion', 'per:date_of_death', 'per:place_of_residence',\n",
       "       'per:other_family', 'per:siblings', 'per:product',\n",
       "       'per:place_of_death', 'org:members', 'org:top_members/employees',\n",
       "       'org:founded_by', 'org:place_of_headquarters'], dtype=object)"
      ]
     },
     "execution_count": 17,
     "metadata": {},
     "output_type": "execute_result"
    }
   ],
   "source": [
    "df['label'].unique()"
   ]
  },
  {
   "cell_type": "code",
   "execution_count": 35,
   "id": "9e3925a5-1c6e-4be0-b006-8526763f9642",
   "metadata": {},
   "outputs": [
    {
     "data": {
      "text/plain": [
       "array(['per:date_of_birth', 'per:employee_of', 'per:origin', 'per:title',\n",
       "       'per:schools_attended', 'per:colleagues', 'per:alternate_names',\n",
       "       'per:spouse', 'per:children', 'per:place_of_birth', 'per:parents',\n",
       "       'per:religion', 'per:date_of_death', 'per:place_of_residence',\n",
       "       'per:other_family', 'per:siblings', 'per:product',\n",
       "       'per:place_of_death'], dtype=object)"
      ]
     },
     "execution_count": 35,
     "metadata": {},
     "output_type": "execute_result"
    }
   ],
   "source": [
    "ls = ['org:members', 'org:top_members/employees','org:founded_by', 'org:place_of_headquarters']\n",
    "per_df = per_df.drop([1179,5808,8377,11246])\n",
    "per_df.reset_index(drop=True,inplace=True)\n",
    "per_df['label'].unique()"
   ]
  },
  {
   "cell_type": "code",
   "execution_count": 37,
   "id": "da801405-54c2-4498-93fc-81a9dc133028",
   "metadata": {},
   "outputs": [
    {
     "data": {
      "text/html": [
       "<div>\n",
       "<style scoped>\n",
       "    .dataframe tbody tr th:only-of-type {\n",
       "        vertical-align: middle;\n",
       "    }\n",
       "\n",
       "    .dataframe tbody tr th {\n",
       "        vertical-align: top;\n",
       "    }\n",
       "\n",
       "    .dataframe thead th {\n",
       "        text-align: right;\n",
       "    }\n",
       "</style>\n",
       "<table border=\"1\" class=\"dataframe\">\n",
       "  <thead>\n",
       "    <tr style=\"text-align: right;\">\n",
       "      <th></th>\n",
       "      <th>index</th>\n",
       "      <th>sentence</th>\n",
       "      <th>subject_entity</th>\n",
       "      <th>object_entity</th>\n",
       "      <th>label</th>\n",
       "      <th>source</th>\n",
       "      <th>sub_type</th>\n",
       "    </tr>\n",
       "  </thead>\n",
       "  <tbody>\n",
       "    <tr>\n",
       "      <th>0</th>\n",
       "      <td>7</td>\n",
       "      <td>박용오(朴容旿, 1937년 4월 29일(음력 3월 19일)(음력 3월 19일) ~ ...</td>\n",
       "      <td>{'word': '박용오', 'start_idx': 0, 'end_idx': 2, ...</td>\n",
       "      <td>{'word': '1937년 4월 29일', 'start_idx': 9, 'end_...</td>\n",
       "      <td>per:date_of_birth</td>\n",
       "      <td>wikipedia</td>\n",
       "      <td>PER</td>\n",
       "    </tr>\n",
       "    <tr>\n",
       "      <th>1</th>\n",
       "      <td>9</td>\n",
       "      <td>특히 김동연 전 경제부총리를 비롯한 김두관 국회의원, 안규백 국회의원, 김종민 국회...</td>\n",
       "      <td>{'word': '안규백', 'start_idx': 30, 'end_idx': 32...</td>\n",
       "      <td>{'word': '더불어민주당', 'start_idx': 100, 'end_idx'...</td>\n",
       "      <td>per:employee_of</td>\n",
       "      <td>wikitree</td>\n",
       "      <td>PER</td>\n",
       "    </tr>\n",
       "    <tr>\n",
       "      <th>2</th>\n",
       "      <td>10</td>\n",
       "      <td>하비에르 파스토레는 아르헨티나 클럽 타예레스의 유소년팀에서 축구를 시작하였다.</td>\n",
       "      <td>{'word': '하비에르 파스토레', 'start_idx': 0, 'end_idx...</td>\n",
       "      <td>{'word': '아르헨티나', 'start_idx': 11, 'end_idx': ...</td>\n",
       "      <td>per:origin</td>\n",
       "      <td>wikipedia</td>\n",
       "      <td>PER</td>\n",
       "    </tr>\n",
       "    <tr>\n",
       "      <th>3</th>\n",
       "      <td>11</td>\n",
       "      <td>이른바 'Z세대'로 불리는 1990년대 중반 이후 태어난 세대에게 대표 아이콘으로 ...</td>\n",
       "      <td>{'word': '빌리 아일리시', 'start_idx': 60, 'end_idx'...</td>\n",
       "      <td>{'word': '싱어송라이터', 'start_idx': 53, 'end_idx':...</td>\n",
       "      <td>per:title</td>\n",
       "      <td>wikitree</td>\n",
       "      <td>PER</td>\n",
       "    </tr>\n",
       "    <tr>\n",
       "      <th>4</th>\n",
       "      <td>15</td>\n",
       "      <td>성명에는 더불어민주당 이상민 대전광역시당 위원장, 이춘희 세종특별자치시당 위원장, ...</td>\n",
       "      <td>{'word': '노영민', 'start_idx': 96, 'end_idx': 98...</td>\n",
       "      <td>{'word': '더불어민주당', 'start_idx': 5, 'end_idx': ...</td>\n",
       "      <td>per:employee_of</td>\n",
       "      <td>wikipedia</td>\n",
       "      <td>PER</td>\n",
       "    </tr>\n",
       "    <tr>\n",
       "      <th>...</th>\n",
       "      <td>...</td>\n",
       "      <td>...</td>\n",
       "      <td>...</td>\n",
       "      <td>...</td>\n",
       "      <td>...</td>\n",
       "      <td>...</td>\n",
       "      <td>...</td>\n",
       "    </tr>\n",
       "    <tr>\n",
       "      <th>12633</th>\n",
       "      <td>32461</td>\n",
       "      <td>1852년 미국 대통령 선거에서 휘그당은 미국-멕시코 전쟁의 영웅 테일러 장군의 사...</td>\n",
       "      <td>{'word': '밀러드 필모어', 'start_idx': 66, 'end_idx'...</td>\n",
       "      <td>{'word': '휘그당', 'start_idx': 18, 'end_idx': 20...</td>\n",
       "      <td>per:employee_of</td>\n",
       "      <td>wikipedia</td>\n",
       "      <td>PER</td>\n",
       "    </tr>\n",
       "    <tr>\n",
       "      <th>12634</th>\n",
       "      <td>32463</td>\n",
       "      <td>그의 외삼촌은 루이 13세로, 남편인 루이 14세는 외사촌 오빠가 된다.</td>\n",
       "      <td>{'word': '루이 14세', 'start_idx': 21, 'end_idx':...</td>\n",
       "      <td>{'word': '루이 13세', 'start_idx': 8, 'end_idx': ...</td>\n",
       "      <td>per:other_family</td>\n",
       "      <td>wikipedia</td>\n",
       "      <td>PER</td>\n",
       "    </tr>\n",
       "    <tr>\n",
       "      <th>12635</th>\n",
       "      <td>32464</td>\n",
       "      <td>KIA타이거즈 외야수 이창진이 롯데백화점 광주점이 시상하는 9월 월간 MVP에 선정...</td>\n",
       "      <td>{'word': '이창진', 'start_idx': 12, 'end_idx': 14...</td>\n",
       "      <td>{'word': '외야수', 'start_idx': 8, 'end_idx': 10,...</td>\n",
       "      <td>per:title</td>\n",
       "      <td>wikitree</td>\n",
       "      <td>PER</td>\n",
       "    </tr>\n",
       "    <tr>\n",
       "      <th>12636</th>\n",
       "      <td>32465</td>\n",
       "      <td>한국당은 7일 오전 9시부터 오후 5시까지 진행된 원내대표 및 정책위의장 후보자 등...</td>\n",
       "      <td>{'word': '유기준', 'start_idx': 93, 'end_idx': 95...</td>\n",
       "      <td>{'word': '부산 서구·동구', 'start_idx': 100, 'end_id...</td>\n",
       "      <td>per:employee_of</td>\n",
       "      <td>wikitree</td>\n",
       "      <td>PER</td>\n",
       "    </tr>\n",
       "    <tr>\n",
       "      <th>12637</th>\n",
       "      <td>32466</td>\n",
       "      <td>법포는 다시 최시형, 서병학, 손병희 직계인 북접과 다시 서장옥, 전봉준, 김개남을...</td>\n",
       "      <td>{'word': '최시형', 'start_idx': 7, 'end_idx': 9, ...</td>\n",
       "      <td>{'word': '손병희', 'start_idx': 17, 'end_idx': 19...</td>\n",
       "      <td>per:colleagues</td>\n",
       "      <td>wikipedia</td>\n",
       "      <td>PER</td>\n",
       "    </tr>\n",
       "  </tbody>\n",
       "</table>\n",
       "<p>12638 rows × 7 columns</p>\n",
       "</div>"
      ],
      "text/plain": [
       "       index                                           sentence  \\\n",
       "0          7  박용오(朴容旿, 1937년 4월 29일(음력 3월 19일)(음력 3월 19일) ~ ...   \n",
       "1          9  특히 김동연 전 경제부총리를 비롯한 김두관 국회의원, 안규백 국회의원, 김종민 국회...   \n",
       "2         10        하비에르 파스토레는 아르헨티나 클럽 타예레스의 유소년팀에서 축구를 시작하였다.   \n",
       "3         11  이른바 'Z세대'로 불리는 1990년대 중반 이후 태어난 세대에게 대표 아이콘으로 ...   \n",
       "4         15  성명에는 더불어민주당 이상민 대전광역시당 위원장, 이춘희 세종특별자치시당 위원장, ...   \n",
       "...      ...                                                ...   \n",
       "12633  32461  1852년 미국 대통령 선거에서 휘그당은 미국-멕시코 전쟁의 영웅 테일러 장군의 사...   \n",
       "12634  32463           그의 외삼촌은 루이 13세로, 남편인 루이 14세는 외사촌 오빠가 된다.   \n",
       "12635  32464  KIA타이거즈 외야수 이창진이 롯데백화점 광주점이 시상하는 9월 월간 MVP에 선정...   \n",
       "12636  32465  한국당은 7일 오전 9시부터 오후 5시까지 진행된 원내대표 및 정책위의장 후보자 등...   \n",
       "12637  32466  법포는 다시 최시형, 서병학, 손병희 직계인 북접과 다시 서장옥, 전봉준, 김개남을...   \n",
       "\n",
       "                                          subject_entity  \\\n",
       "0      {'word': '박용오', 'start_idx': 0, 'end_idx': 2, ...   \n",
       "1      {'word': '안규백', 'start_idx': 30, 'end_idx': 32...   \n",
       "2      {'word': '하비에르 파스토레', 'start_idx': 0, 'end_idx...   \n",
       "3      {'word': '빌리 아일리시', 'start_idx': 60, 'end_idx'...   \n",
       "4      {'word': '노영민', 'start_idx': 96, 'end_idx': 98...   \n",
       "...                                                  ...   \n",
       "12633  {'word': '밀러드 필모어', 'start_idx': 66, 'end_idx'...   \n",
       "12634  {'word': '루이 14세', 'start_idx': 21, 'end_idx':...   \n",
       "12635  {'word': '이창진', 'start_idx': 12, 'end_idx': 14...   \n",
       "12636  {'word': '유기준', 'start_idx': 93, 'end_idx': 95...   \n",
       "12637  {'word': '최시형', 'start_idx': 7, 'end_idx': 9, ...   \n",
       "\n",
       "                                           object_entity              label  \\\n",
       "0      {'word': '1937년 4월 29일', 'start_idx': 9, 'end_...  per:date_of_birth   \n",
       "1      {'word': '더불어민주당', 'start_idx': 100, 'end_idx'...    per:employee_of   \n",
       "2      {'word': '아르헨티나', 'start_idx': 11, 'end_idx': ...         per:origin   \n",
       "3      {'word': '싱어송라이터', 'start_idx': 53, 'end_idx':...          per:title   \n",
       "4      {'word': '더불어민주당', 'start_idx': 5, 'end_idx': ...    per:employee_of   \n",
       "...                                                  ...                ...   \n",
       "12633  {'word': '휘그당', 'start_idx': 18, 'end_idx': 20...    per:employee_of   \n",
       "12634  {'word': '루이 13세', 'start_idx': 8, 'end_idx': ...   per:other_family   \n",
       "12635  {'word': '외야수', 'start_idx': 8, 'end_idx': 10,...          per:title   \n",
       "12636  {'word': '부산 서구·동구', 'start_idx': 100, 'end_id...    per:employee_of   \n",
       "12637  {'word': '손병희', 'start_idx': 17, 'end_idx': 19...     per:colleagues   \n",
       "\n",
       "          source sub_type  \n",
       "0      wikipedia      PER  \n",
       "1       wikitree      PER  \n",
       "2      wikipedia      PER  \n",
       "3       wikitree      PER  \n",
       "4      wikipedia      PER  \n",
       "...          ...      ...  \n",
       "12633  wikipedia      PER  \n",
       "12634  wikipedia      PER  \n",
       "12635   wikitree      PER  \n",
       "12636   wikitree      PER  \n",
       "12637  wikipedia      PER  \n",
       "\n",
       "[12638 rows x 7 columns]"
      ]
     },
     "execution_count": 37,
     "metadata": {},
     "output_type": "execute_result"
    }
   ],
   "source": [
    "per_df"
   ]
  },
  {
   "cell_type": "code",
   "execution_count": 38,
   "id": "3598e27c-7501-45a3-84ce-e5903c932cd4",
   "metadata": {},
   "outputs": [],
   "source": [
    "per_df.to_csv('/opt/ml/code/for_binary/data/per_train.csv')"
   ]
  },
  {
   "cell_type": "code",
   "execution_count": 28,
   "id": "5b6bbd73-cb59-4ab8-ac5b-ec32c94b4c75",
   "metadata": {},
   "outputs": [
    {
     "data": {
      "text/html": [
       "<div>\n",
       "<style scoped>\n",
       "    .dataframe tbody tr th:only-of-type {\n",
       "        vertical-align: middle;\n",
       "    }\n",
       "\n",
       "    .dataframe tbody tr th {\n",
       "        vertical-align: top;\n",
       "    }\n",
       "\n",
       "    .dataframe thead th {\n",
       "        text-align: right;\n",
       "    }\n",
       "</style>\n",
       "<table border=\"1\" class=\"dataframe\">\n",
       "  <thead>\n",
       "    <tr style=\"text-align: right;\">\n",
       "      <th></th>\n",
       "      <th>index</th>\n",
       "      <th>sentence</th>\n",
       "      <th>subject_entity</th>\n",
       "      <th>object_entity</th>\n",
       "      <th>label</th>\n",
       "      <th>source</th>\n",
       "      <th>sub_type</th>\n",
       "    </tr>\n",
       "  </thead>\n",
       "  <tbody>\n",
       "    <tr>\n",
       "      <th>8377</th>\n",
       "      <td>21482</td>\n",
       "      <td>1921년 하심가 출신인 압둘라 1세를 영입하여 트란스요르단을 세웠고, 제2차 세계...</td>\n",
       "      <td>{'word': '압둘라 1세', 'start_idx': 14, 'end_idx':...</td>\n",
       "      <td>{'word': '요르단', 'start_idx': 30, 'end_idx': 32...</td>\n",
       "      <td>org:founded_by</td>\n",
       "      <td>wikipedia</td>\n",
       "      <td>PER</td>\n",
       "    </tr>\n",
       "  </tbody>\n",
       "</table>\n",
       "</div>"
      ],
      "text/plain": [
       "      index                                           sentence  \\\n",
       "8377  21482  1921년 하심가 출신인 압둘라 1세를 영입하여 트란스요르단을 세웠고, 제2차 세계...   \n",
       "\n",
       "                                         subject_entity  \\\n",
       "8377  {'word': '압둘라 1세', 'start_idx': 14, 'end_idx':...   \n",
       "\n",
       "                                          object_entity           label  \\\n",
       "8377  {'word': '요르단', 'start_idx': 30, 'end_idx': 32...  org:founded_by   \n",
       "\n",
       "         source sub_type  \n",
       "8377  wikipedia      PER  "
      ]
     },
     "execution_count": 28,
     "metadata": {},
     "output_type": "execute_result"
    }
   ],
   "source": [
    "del per_df[per_df['label']=='org:founded_by']"
   ]
  },
  {
   "cell_type": "code",
   "execution_count": 29,
   "id": "9bd675a3-f234-4415-bf7e-f84f160d3d8a",
   "metadata": {},
   "outputs": [
    {
     "data": {
      "text/html": [
       "<div>\n",
       "<style scoped>\n",
       "    .dataframe tbody tr th:only-of-type {\n",
       "        vertical-align: middle;\n",
       "    }\n",
       "\n",
       "    .dataframe tbody tr th {\n",
       "        vertical-align: top;\n",
       "    }\n",
       "\n",
       "    .dataframe thead th {\n",
       "        text-align: right;\n",
       "    }\n",
       "</style>\n",
       "<table border=\"1\" class=\"dataframe\">\n",
       "  <thead>\n",
       "    <tr style=\"text-align: right;\">\n",
       "      <th></th>\n",
       "      <th>index</th>\n",
       "      <th>sentence</th>\n",
       "      <th>subject_entity</th>\n",
       "      <th>object_entity</th>\n",
       "      <th>label</th>\n",
       "      <th>source</th>\n",
       "      <th>sub_type</th>\n",
       "    </tr>\n",
       "  </thead>\n",
       "  <tbody>\n",
       "    <tr>\n",
       "      <th>11246</th>\n",
       "      <td>28891</td>\n",
       "      <td>이렇게 싹튼 우크라이나 민족주의는 19세기 초 키예프를 중심으로 제정 러시아의 지배...</td>\n",
       "      <td>{'word': '키예프', 'start_idx': 26, 'end_idx': 28...</td>\n",
       "      <td>{'word': '우크라이나', 'start_idx': 90, 'end_idx': ...</td>\n",
       "      <td>org:place_of_headquarters</td>\n",
       "      <td>wikipedia</td>\n",
       "      <td>PER</td>\n",
       "    </tr>\n",
       "  </tbody>\n",
       "</table>\n",
       "</div>"
      ],
      "text/plain": [
       "       index                                           sentence  \\\n",
       "11246  28891  이렇게 싹튼 우크라이나 민족주의는 19세기 초 키예프를 중심으로 제정 러시아의 지배...   \n",
       "\n",
       "                                          subject_entity  \\\n",
       "11246  {'word': '키예프', 'start_idx': 26, 'end_idx': 28...   \n",
       "\n",
       "                                           object_entity  \\\n",
       "11246  {'word': '우크라이나', 'start_idx': 90, 'end_idx': ...   \n",
       "\n",
       "                           label     source sub_type  \n",
       "11246  org:place_of_headquarters  wikipedia      PER  "
      ]
     },
     "execution_count": 29,
     "metadata": {},
     "output_type": "execute_result"
    }
   ],
   "source": [
    "del per_df[per_df['label']=='org:place_of_headquarters']"
   ]
  },
  {
   "cell_type": "code",
   "execution_count": null,
   "id": "8cf797d4-c218-4f6e-bd29-4df39a2e4cc8",
   "metadata": {},
   "outputs": [],
   "source": []
  }
 ],
 "metadata": {
  "kernelspec": {
   "display_name": "Python 3 (ipykernel)",
   "language": "python",
   "name": "python3"
  },
  "language_info": {
   "codemirror_mode": {
    "name": "ipython",
    "version": 3
   },
   "file_extension": ".py",
   "mimetype": "text/x-python",
   "name": "python",
   "nbconvert_exporter": "python",
   "pygments_lexer": "ipython3",
   "version": "3.8.5"
  }
 },
 "nbformat": 4,
 "nbformat_minor": 5
}
